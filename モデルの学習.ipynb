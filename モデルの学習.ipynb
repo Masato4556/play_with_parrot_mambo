{
 "cells": [
  {
   "cell_type": "code",
   "execution_count": 1,
   "metadata": {},
   "outputs": [
    {
     "name": "stderr",
     "output_type": "stream",
     "text": [
      "Using TensorFlow backend.\n"
     ]
    }
   ],
   "source": [
    "%matplotlib inline \n",
    "import matplotlib.pyplot as plt\n",
    "import os\n",
    "import base64\n",
    "import json\n",
    "from io import BytesIO\n",
    "from glob import iglob\n",
    "\n",
    "import pandas as pd\n",
    "import numpy as np\n",
    "from PIL import Image, ImageFile\n",
    "from skimage import transform as tf\n",
    "from skimage.color import rgb2gray\n",
    "from skimage.io import imread\n",
    "from IPython.display import HTML\n",
    "import keras\n",
    "from keras.preprocessing.image import ImageDataGenerator\n",
    "from keras.models import Sequential\n",
    "from keras.layers import (\n",
    "    Dense, Dropout, Activation, Flatten, Conv2D,\n",
    "    MaxPooling2D, AveragePooling2D, BatchNormalization,\n",
    ")\n",
    "\n",
    "pd.set_option('max_colwidth', -1)\n",
    "ImageFile.LOAD_TRUNCATED_IMAGES = True"
   ]
  },
  {
   "cell_type": "code",
   "execution_count": 3,
   "metadata": {
    "collapsed": true
   },
   "outputs": [],
   "source": [
    "def resize(img_array, size=400):\n",
    "    h, w, c = img_array.shape\n",
    "    padding_h = int((h-size) / 2)\n",
    "    padding_w = int((w-size) / 2)\n",
    "    return img_array[padding_h:padding_h + size, padding_w: padding_w + size]\n",
    "\n",
    "labels_for_400 = [1,2,2,0,3,2,2,2,0,3,2,3,1,1,1,2,3,2,3,3,3,0,0,1,3,3,3,1,3,3,3,0,1]\n",
    "\n",
    "def generate_data():\n",
    "    for filepath, label in zip(iglob('./image/*'), labels_for_400):\n",
    "        img = resize(imread(filepath))\n",
    "        yield (rgb2gray(tf.resize(img, (32,32), mode='reflect')), label)\n",
    "\n",
    "def gen_data():\n",
    "    df = pd.DataFrame(generate_data())\n",
    "    df.columns = ['x', 'y']\n",
    "    test_data_df = df.groupby('y').head(2)\n",
    "    train_data_df = df[~df.index.isin(test_data_df.index)]\n",
    "    return np.expand_dims(np.stack(train_data_df.x), -1), np.stack(train_data_df.y), \\\n",
    "                np.expand_dims(np.stack(test_data_df.x), -1), np.stack(test_data_df.y)"
   ]
  },
  {
   "cell_type": "code",
   "execution_count": 4,
   "metadata": {
    "collapsed": true
   },
   "outputs": [],
   "source": [
    "img_tag_template = '<img src=\"data:image/png;base64,{}\" />'\n",
    "label_map = {\n",
    "    0: '不明',\n",
    "    1: '1',\n",
    "    2: '2',    \n",
    "    3: '3',\n",
    "}\n",
    "def to_base_64(image_array):\n",
    "    image = Image.fromarray((image_array * 255).astype(np.uint8))\n",
    "    output = BytesIO()\n",
    "    image.save(output, format='PNG')\n",
    "    return base64.b64encode(output.getvalue()).decode()\n",
    "\n",
    "def iter_data():\n",
    "    df = pd.DataFrame(generate_data())\n",
    "    df.columns = ['x', 'y']\n",
    "    return pd.DataFrame({\n",
    "        'image': df.x.apply(to_base_64).apply(lambda x: img_tag_template.format(x)),\n",
    "        'label': df.y.map(label_map),\n",
    "    })\n",
    "\n",
    "def iter_result(model):\n",
    "    df = pd.DataFrame(generate_data())\n",
    "    df.columns = ['x', 'y']\n",
    "    y_pred = model.predict(np.expand_dims(np.stack(df.x), -1))\n",
    "    return pd.DataFrame({\n",
    "        'image': df.x.apply(to_base_64).apply(lambda x: img_tag_template.format(x)),\n",
    "        'label': df.y.map(label_map),\n",
    "        'prediction': pd.Series(np.argmax(y_pred, axis=1)).map(label_map)\n",
    "    })\n"
   ]
  },
  {
   "cell_type": "code",
   "execution_count": 5,
   "metadata": {
    "scrolled": false
   },
   "outputs": [
    {
     "data": {
      "text/html": [
       "<table border=\"1\" class=\"dataframe\">\n",
       "  <thead>\n",
       "    <tr style=\"text-align: right;\">\n",
       "      <th></th>\n",
       "      <th></th>\n",
       "      <th>0</th>\n",
       "      <th>1</th>\n",
       "      <th>2</th>\n",
       "      <th>3</th>\n",
       "      <th>4</th>\n",
       "      <th>5</th>\n",
       "      <th>6</th>\n",
       "      <th>7</th>\n",
       "      <th>8</th>\n",
       "      <th>9</th>\n",
       "      <th>10</th>\n",
       "      <th>11</th>\n",
       "      <th>12</th>\n",
       "    </tr>\n",
       "    <tr>\n",
       "      <th>label</th>\n",
       "      <th></th>\n",
       "      <th></th>\n",
       "      <th></th>\n",
       "      <th></th>\n",
       "      <th></th>\n",
       "      <th></th>\n",
       "      <th></th>\n",
       "      <th></th>\n",
       "      <th></th>\n",
       "      <th></th>\n",
       "      <th></th>\n",
       "      <th></th>\n",
       "      <th></th>\n",
       "      <th></th>\n",
       "    </tr>\n",
       "  </thead>\n",
       "  <tbody>\n",
       "    <tr>\n",
       "      <th>1</th>\n",
       "      <th>image</th>\n",
       "      <td><img src=\"data:image/png;base64,iVBORw0KGgoAAAANSUhEUgAAACAAAAAgCAAAAABWESUoAAACCUlEQVR4nCXQsY0tZRCE0a+qe+byeKxDAEg4GFhgkAMSeRAiOSAcDALBwGB3/u7C4IRw9D1r63ks9o3zoeca61x7fBDlGG2QxUbinMDyhCxnYyKhVPkhFnaVLdSSHLuKkomqqrGRxI1Ka6nU0s4+R8NmdD6WzXr11N31t9S9amHtZexYe82tji9ero0LtF6VVQrGLobdJduZPtlkmYKQ/tT9+VVvV80fmWPUhRapfyskrjxCJJlfKnz5r3weDErRKLul1kquf4IuxctDowMjKaKh7NV30RdEVr3InFI5lFcbsVP8qlPt6dnTqY5YixSIUR9+wiPJF8VVCaqMICw4qtuIHu9L94kvlgJwnALPqgJ2JU9lPnDSESgaLGK7KtbIiT1YEfkTucKqTXB5EyemYAB9KwZxmCjYDp1ujjKVwNdkUS6NcqvcxaJBsdaCjbbEEeq2ZAprt5dsFJDuHPBqfSQjZ3SLpMjy+1+bWD26L+r1qX0e68MLJFv50ez6JDoeIaOKblWGkRdlYWFP7+t+xeMrT1xCmkSJCdp19/zfoZ2YrcHJozxWVp6HiuRwVNKzhz0RuyGT7DldfdONeW9bBA3lZdc80WX2wsnuJe1ks9Y8C7WH8MM53rbDoEP2yX4kYvIMO/vz5+urro6U5HpfadKDlAOb8M3reu9yaU37DTaaIRN2N2Bexv8BjEl7eQ2lQUQAAAAASUVORK5CYII=\" /></td>\n",
       "      <td><img src=\"data:image/png;base64,iVBORw0KGgoAAAANSUhEUgAAACAAAAAgCAAAAABWESUoAAACTElEQVR4nCXKPa6dRRAE0Krqnrk/WI4ILGABBGSIDRASEIFEyCrYlddAxA7wAkz0MEJguLp+95vpLgJOfPg5n3/6SiZFssUOVv2AnH91TLqzu+9AEFSb4XBAZDZaJJQCdkioVEJmB3ORs2eGWEOGHiQqQpsGs3Gw3O31aKOSvf8IeAoYIgkEnRbGboglKqNC4tAgSYXlTuQVGiMktN8mEmy9/jZMAMpbaYHV2yW2F6kVoe+Lg+wkvxGoDAMUpb8lnQ3hJkAA+KNXEKTIVPaKJKASIPCC7s+CpGhE57H7n67Ro3J/9PQKQMUxGztq3Gxk2ptsrIH5s4Ho9FknDJ37xaMtF0pUB0xTQVDRPikmE5IOgQvOQpqCDcJ2FZBIWoERGa3kbhjBJMn0VDCCUrtCEOAQoaa77GZBEZySrBGUaf7/lAEFYyQtQkA/yqKJFkXaIqHVrjCQlCYaAppuit4C12Siez6mWgQVVCiQgi3AasZEElB0Adi0vVE2ABtfKwrJcR7C9cXLbe1u0AEbAPCddAqo7GQPoUmC8LunX9787vEIchDGgPnF4Mv76S7m0OL1w8WD2OZl6M/uO6QkclCs7pH2cuuavkJ1zpNGCjIYHc5UMwbHzLHP9yvu1LTKXIRDOteOVuY4vbp82h/rcTK5FGkKY9g9+MgGzny3P/ny/Y1HLF2kzQBdIAvD8xg3bDz9+uG87nvvQyjtis3qZ6rX0fd47uO326oVDxWSCq2mhG5slIvJOv7d733gcGXAngTC1DaKPCqPGlhi+Zn/AZZIYqwk30nbAAAAAElFTkSuQmCC\" /></td>\n",
       "      <td><img src=\"data:image/png;base64,iVBORw0KGgoAAAANSUhEUgAAACAAAAAgCAAAAABWESUoAAACLUlEQVR4nAXBS45cRRAF0PuJfFXtBtlCghFsgKUwZReMWBsDdsQQLEHLXa7MiMs5/Pk2jzrAp37Oh/3kH1EzHM5gNnfBx4ziWAwnMthUxMGapffP7yqBFMUC6Rjm/DK0K6rWsMNsDJpzFjHOrt8Ko14j+zqNnieohWtBUdP6kSE2U1vyiKPBbDxoQAXnOxK60SouIEhprDahIqX8eZMoUVDcNJBBe7PgMbR+7yILUmExJN/0OudtEWaNOUSHm1IjSGIXigwhSs2iq3gjBIYLbkbZHIlpL3YaNEOJDHIsxgWDYAWwjXDM8rW+XsNeXJ3MLSKkVgMggpqj7QTZTiajwD2E2QGIkis6lVtBX265kwhDJOquidBPStPZJ8w5wGQkgJAbXb6iSa7FTNanFQqckAFASGw0OUiC8JhEAEaaGfbU+HoItif2jf71/ta5bg/w2jRGtVAcAqqE8nWjgCzqBNmuECNDwADqJ87xRStooZyyJcJYB7OmqFspJXTMgEsikYq4ysCQ0NgpFS9IKW5+TKvDFUoVFyjVfdjfhKNEbaEQtQZRB6dr7evlY1+uosv7w9mFValvs57Gnbf76tcv30/ei1jNxMMWQeMoa6K83P7hxwdFWSDjxRxm7sB9P4Uf4pddP7GUyJpSHBI5j3pY+vzv6/P1wl/P0vhUsC8azd61G9L7s/6+/uP961SFqDQGDaB5hm1+PV3vvZ45BY4KMdf0sM6EL4t8ztEm2/8D33hqrhGD8xYAAAAASUVORK5CYII=\" /></td>\n",
       "      <td><img src=\"data:image/png;base64,iVBORw0KGgoAAAANSUhEUgAAACAAAAAgCAAAAABWESUoAAACMUlEQVR4nAXBO45dVRAF0P2pc193220wSGTmIyRnCGLGwAyYIHPxIBwRECCDcP/ePVWbtfg+t/vkH3RAgArCDH/vW/w7OqhoRgExlso0TFtb4iU9Kpb3tokDYkCyvR1IHcIQdwuRSyA//aagVMQpgjgTdQYgDFj55lsuZ+zql4RyR2sZSVNlLTxJLpVCg8fIUgdAFhCyEZByoO9mY2hSwHRVkQUd/BjShvRrLS4PXDMLcUFx5A8gI0bvi6vX+kwdeOnpBKATMFRI/NAOM0IxWyAJMgZAwBi+1QSht0ADA4lQZloUGL4GiiCpSIGFKBKrIogOSzSxrIgESEEIA3UpZEjqUmYxbr5CIECM4IDxEBUBVgGqd00CwAjgpNOSIJhUJz0/ewgiBECmwobUgFUzvOcvYiAAUUKOWkJDSIo3wfpxoIzGNXFawUSAiOJP5Dqe7q+fozd40bF1l/jl8XJb/Z/wXGi6C1zb8d1pER5HVsBYWh5ICkRnjOtcOyxPziQ95V0yGAOxrmYOy9GR5SK7yL0DFwKCF5iIfGC8miRLB4mqScEaZk2pnLv1kCUcp2ZSPbs1Iy34lHVbr75ex2uOZ4RNuViLq2z65gZv66s3/7y7fHF7F140xYaYccbhCdk3N9/3PrbjUN12bdMlcEO89nPr05d/3m+TF1RUnOxd0zk3eV7OB//1eD4/zROEh7qMbYfB2tx0nmv9fffQzeeArRKICcDMLHAP9VTXRw82h5j/AcnYRsBIBDORAAAAAElFTkSuQmCC\" /></td>\n",
       "      <td><img src=\"data:image/png;base64,iVBORw0KGgoAAAANSUhEUgAAACAAAAAgCAAAAABWESUoAAACPElEQVR4nCXRQa6lUxQF4LXW3ue/r+4jIoIgiIaGjpaGmIsRmJuuSRiFluSJVEpU3Xv/s9fS8E3h47fD86PH+QTf8GsF1hAxjdH5s0vZjCEbQblQUEElcFHo7hS1ncgFrX+v2QviJmvnICTYiTaC/Za+hodTKY4hB+nRgCASPArTkwKV4tR0uRSwDzZUOtIrkRQ2WChMLMKvQqm2rsuoJfgXBiSly1NrXIfNAvw9q4dVxx+0pFbqjMQ8CATEDzEti6eWSCS2OhoqAIwfBR8peIEAUwt99AEWOhL4udxmpliGQpge2Y7PScKnXdth87eXmJJWVrrgFGlMHY8UFKc/dQAQUxJ0uetAHqU7HBqiITgaX/4v6DouhaRKDAYUkJKposQZJdyolVIFDZHsWMQnXQIkj5tUjDAkk1Ai9RkllR3JJCpBlGynEsT+qtictVq7sGkxrURAwED5Wo82naACN0lMQCAhE/MbpZVkwJwZxhECkCPb8EW7wzpIuK8J5VECUnaQPIeiMSGMvGJshVTFQBRfUPzO69mVc/H53fUNVQvDp3u1OW8raqpLylx2Hb1ClMD4sp/sy9ZqpVhDoaPVwWg1lCW994YhxIKiMKo6rJZP7K4PP2CLgLoDmVKc8iXp93E76ovjy7/qBt6W1iFj9iCZnHef786df15u95/224/n6dEUgNqMZJzH4OzHeuafr6+vn1+ut+7LI5yF9LH7UY0Jes/S4/f+mxi0ChCDvcr3ubl833lkVXzWA/Uf00OQkta8RCUAAAAASUVORK5CYII=\" /></td>\n",
       "      <td><img src=\"data:image/png;base64,iVBORw0KGgoAAAANSUhEUgAAACAAAAAgCAAAAABWESUoAAACNklEQVR4nC3RsW0ndRQE4Jl5b9dr+cCSDwmyK4CAEiC6KsgQXVAIZRBRAAktQIRIIEA6CQnZ/u/+3gwBNPAlHz8/YeOoVcx5Hblxb59Zh1edbLQjMPczFZiDqO3TymiwsPULSYfyNKrKDdxdvdSFy4VqVIEDq03wB2/X7z/9/JsrBMGE71qX/YlvW/iCH2kmjZMO4qWvpUm6YuxJXsQSe0WsElnX1cVBOLHhUEmEAokESI3ilMLLl8g7FkSHDYoAq4Q2/MjmbvA9p7v2IruIJgDBhTRqswbfcguIkACY6lDUUKUhYH8aIBcLAZaAkRppxJIKIfW/y2QPNYQ8nnVmRmhNziyC/T2CYGT0ZhfEdhiliTbir4hQGbawOqlZSgIZMiO8I7u4VdIUhbDLKERBoORIHFzIkoQ6qkIxRRJbkR9+RQkUuDfcuG5HAsQaDRA+vZUvBOYmVGZTjrleax9GBi/mtJoUogvgsLmlQHFBA1IlDf8r0Ub2YHYkTHtkDmYFy6+mkEBIaoV/GlAEwlVjRYgKqa3BiPgItssOY1sZLInIOIgx9U0YeBiDkEFuEiWoCsXm+zFjJkwChIm6wqoISvQII1x0CuYwHnZkjovExynLSchwYGOCiKV9b+1pHGYCDVKGQxBQD61CyWl89+Wbz97e1SIvIEbs8Itw20QMeX9780+29ZC7fT2+3t0/P/7yTIVkkRzQpeSMs276Aw/PT38/PRwNJBk0FBiLyO24It7WX6gPL9u/l5SU1pOG5/MAAAAASUVORK5CYII=\" /></td>\n",
       "      <td><img src=\"data:image/png;base64,iVBORw0KGgoAAAANSUhEUgAAACAAAAAgCAAAAABWESUoAAACIElEQVR4nCXRMY4eBRBE4arqntnfJlkJElInSKS+BxIXQFyEo0CO4DrIETEHwMK7M91VBCu9E3yPHwfjI6d+oyhE28PEwA/nzW1NCCoMSwKFRkMq6tvxEPr3M8rEpKiuUj1IUaR+QTzTRC0d8Q98+ufvx6GXvp+WushIFj/g6+t6N0+ffXjxPHtlz1zHTu+03TCd9S4Be4nFsGSHAsM2RyHeolDtOgAJfVeOSyA2iWMpXMzeA4cDWLmmgaLqZsoEMICG2mRf932faDG1OCmgK+gkVREO8kG7lOy9WgcMgoRAkqxnEaQBknHD8daSCZSs2a/EVJOuocSXP597xENXAhjO/riCtrhFSu++OSLS95IBwpB4bVWHa+2OQQXDThUpFFcHGiUuMgITgMVoASBAgyXKGwV3IwA8i8Qh6F0XGgKwraEJhQ1LyNWhKpEibKTFFBAmK2BzLhZfdGzzeDnHFioyjQhIwULjGVWSDoAnyBg3wWS5GYyv7xcW06QC93p4I/vrR8A0oZ+yq+hy4BIXNGz+/H4Z3AA+NNmwhgowDAQQ9RUXgZM7pPIF4mZI422BjzhuEjsXWqUYwTwVVrbu3gXoGPuIhbhg7QmgKEJ//X4Fd0xHYKsIBFotsazFdwVfJGG0JBOt4kEG7JjhvRYmS2/Q/d95PCZXx5jOEhEAwB422AFTvjV9HxwFNwUGvg86emqAmdNkxeQtvqFjyjGh/wFBvKLvz7TQEQAAAABJRU5ErkJggg==\" /></td>\n",
       "      <td>NaN</td>\n",
       "      <td>NaN</td>\n",
       "      <td>NaN</td>\n",
       "      <td>NaN</td>\n",
       "      <td>NaN</td>\n",
       "      <td>NaN</td>\n",
       "    </tr>\n",
       "    <tr>\n",
       "      <th>2</th>\n",
       "      <th>image</th>\n",
       "      <td><img src=\"data:image/png;base64,iVBORw0KGgoAAAANSUhEUgAAACAAAAAgCAAAAABWESUoAAACM0lEQVR4nCXQPYqeZRQG4PvnPO98M0VQmGnsVLCISIpULsUtSRaQKiuxthXExjUIIkEz33zvc85tkR1cXPxmyIv1EcllXTGCjhe0l//T3jyF25l9YiOYjaCBzrXn+okkh1pLVcgE5mwmDSDI+bIn1AhQQnoVQSkqY6XEWlz0UfAO2cUH5LmaBWvu7ERLDEvycWivgmOKIuyiYBNbLBCo97AV8Mh2s6GfRrRZoE7JUomgPGMo0mdtyEYhUJNyCJBsVKI7LEi2txT3EGra2gNWyyzYVgMuMjqosUgK7lSb18qkOhmFtR9zEgEaaYoL3BAXRFiO6q0uFIeCORCA+zqcpbIFSG9CcCqw6GSLL9DnVYoVfuWpLNaHv34lrIMRl7FTKnGpLklumPn+8R3JAPbhuEBBmSWHqSg/6msETeLpAQ/HzDCSABIaJPn9ZyiayWMVdbm3SwveQNpJ/vgBAUH5i29f7WvdNaBtVkYUqOPP35h248Trv1/5AbW7bGp4Hl1nfQd0OIqefllX/asbIGIIOoyZBGBjj5/nmr6BqWIxCIg0Qe0QwpcfnZtzBBoJSKY77M4GFPR5PSfnZCwTzKCJQB5mJ8PN2wCZs0WPgeF0n9jY0GyEtJIesFS9GzUk1OgKosFzA5Nkq2gmCxkRDEdJBs/b0UB2HcjsLGwpBGoy6AmZ0ZmOMvRkYKozOHsmIBrnJLewzuJwR/II2MJgMuEQADHlU/2Pj7nfa9/BOYbDlFF76PB/9X59/4kyoqYAAAAASUVORK5CYII=\" /></td>\n",
       "      <td><img src=\"data:image/png;base64,iVBORw0KGgoAAAANSUhEUgAAACAAAAAgCAAAAABWESUoAAACOklEQVR4nCXRPY6cVRQE0Kq693U3I4NkFmAJRM4SkBBkzkjMErwM514CGQthBwTOESHCiX8YRtP9vVvlwGcLh9/tuTDbVby8L4G0LS08eOHE++6MRUArUyRqQlERTwRLHZc8KGXdDkrNmrQ6peLZko8oSJM6SpDHrHjH29la3SRLZqt8uarKsIu0A92jO2nXjkjAq7UtQS1eFba6uxZROE+BamnaJCmwwE01qtwb0G+t3P7968831+tiR6doSHRRdVA5LVBffPPtT8XDYMb8FVI1IEZTpCLQGHIlgVA0ui3YmkOiOCoE5cg0ohL6KKRwqgZFxYzCGqBIka1jbIOPEyRDdUlgRWkmSVMAuPBLAzvLO1VJ+lrTvBHtBbakH010uRHEa6OhYkkqVQv0V4SyOcMdHdicCZRRdVHSxRDZ4ou8ooqt0+Olq0chC+wyruAEv/sNkkk8rFDqjoxMyAyYs35OEAQPqbvVuuvxaaGEEgvcH14yJuF95y0KgwRKJsbGI59oUwXq/stp+PNvuUmCnPu//3gtH7Ox37+rXLtdbgN2eov++umzH3wUaX68+zhVss8b0i0IbXn7YHMAfHjr2dZSuiRbY3pSrAlI811mz0MvOCt6huGASAwFu4z/KcGi+9zicwMaBCSTKSNvxwAb58zZ+T5WtAUwmNoO/sFjbIEmXPEeGDQcKmBw84LYp8Bs3JoTORhwgkH432XfOJ1jDZyYQBgGgENzanTZ7J0c08aQFklTGMDB7tyiT8Gqk2Ffspw+AAAAAElFTkSuQmCC\" /></td>\n",
       "      <td><img src=\"data:image/png;base64,iVBORw0KGgoAAAANSUhEUgAAACAAAAAgCAAAAABWESUoAAACNklEQVR4nCXRu5FdVRQE0O7e+9w3NYUHhnAUgUxwyAETCksBYJMJEYBFFsSCQSFQUVDzkea9e3Y3BiuFxddNZN9D17k01/OkxM0pL50vq2URVjKODQ2KSOwUs4l0E/e3YcnUgXCY3gHBDU6zRRNe20GRNytNaQQXsg4IxP4IJD7gOjETBAwFUFK3uhZ1nKWFy2OxuPYAxoFnfZQ0i6FCyshmoaqPIpdUKnTEcIXaaUS1xCu2SiUcYURUoXSxq758VXXHKpaIYhWXmoBApFH6gYhC0k///v3+/V+//f4wje5U1wdRYjpEZNx9/irGxrduiK4eplhUhJGhAjDRXux4f5gdAztRdlcqBsKApygsG3Dz4KmkYHvoZFdISxDcZFj5Ci5QS40mKgLVXTJLIx3+TiRCE7Rgbd2ollBaupF8vTsEZUAgDT8R0p5wQG3uBiaZPBoeGCeqtbq7q7Tu7hIjhN9+8s1EUK2nS0sAaoBMBKMR/ZwlcmMAjpp1155lwtlIgPnpl0kA4oVquJYLrOmwHQW/vj0ty+DuiA1StFYTiqDbZ3/8WAQr+XPvNsrhLgxwlmn1m3wPx8HtYaNLGK/FmhcMFQahJgHS74w+jHZA6uqKoQH/z+K1rmepmoxC6tNs2NvwAGf2XnneEA1kSONrZO9Ak20zgPMod2egnrXri5PkpjAaYJT4YUv3klZwAS+DMbLPGTsY2//g1FbJ7Juq6QShMIiRgDb6qiuEKHkhSIBBEIe4ycB/QniIZ7JxkvAAAAAASUVORK5CYII=\" /></td>\n",
       "      <td><img src=\"data:image/png;base64,iVBORw0KGgoAAAANSUhEUgAAACAAAAAgCAAAAABWESUoAAACFUlEQVR4nDXSwa0cBRAE0Krqntn9JgMkRACOgiw4+QZhAZKT44hk6bN/prvKB0QA7/b4857PTdbnV1AhAsAw4t+JehdiVIhPimQipEQQpLOzjYhk6KcKApierSGAmoPiT/t409w63q7HO+6jhnWdJF9aNr8pFMLYUAeGGytsVk6x1IdFPiCGVB48mPhuNurKUdVkt2MiAmlBaAtCoR6qQwEhlFHdipKqrdDMxrvdZ1oMm0x4OhX3sro1qXqsHrZ3yaLiFdgn3CLEIlOtai4CiY6IsitkCLKXZ/vuuu/6FNdkhQF3iYOe5YbtUtV5N9KRhmVLoFhXI+9o0LWplLSN/s+ASAmB2P3C2uQ8MvM4kZcAUcxJBGrplIA6Ix0qbscqFooSAqHIIFriYw5f/he37RuDIt19vCRmyT+YAiJ0doPF4jeXRYKnVEdAgSI+xiSEUj2rRVBBIQIWQUIwBoPk7DSKmhY0pYQETJBLLs7zikIKSLAZA+uwGDBx2nckYQuigEgQgAkDrNzTpY1vATQNrzEBM4orem1uhf/HHtpwOQE/AC7IsFFVdTtwmTGDbz8wzI529rae3UdKKWSwzn55+/MOzXUWhII2Nup1Jjb+wj9a79JTU9bBAaBcycJMnM/rBeJciFpnXymysMiIi79/CeMszQu39GSE45CD9Jpff/QVT7DY2bS1RxJnC0tbv17SWBsgpL4DtMKbNWZsI68AAAAASUVORK5CYII=\" /></td>\n",
       "      <td><img src=\"data:image/png;base64,iVBORw0KGgoAAAANSUhEUgAAACAAAAAgCAAAAABWESUoAAACNElEQVR4nCXQMbIlYhQE4O4+53/3vjfhREQUYrEFiAQCkZ2oEgktYzK5xB5k1kAVVZRSM4Z37zndAt8SPn4Y/pvLQ+sNlLbsRultWs3JM1qudjU32qad3EvrrP/hQSh1ijYmPG2gQKnSkoosdrnZOvV8Lm05rqZYUCxFUGSzeQlmaEocUiXqdB+pg7DwSuwIoDRbNv0FYjDVXJgAGCmggw5riTVjTMtM4YRFq6xoCkF4TR1PCQLiFMMqIMSRoTQICWwSLZECt1JEwqZP1R2A2PaeIADcMl1gCFMSTjaiChwYUZkoQLrRTDbPt0HjDNIltlwMo/DJFz/UdXOldeyEkeHS/bvvs4iX0Aa+48gCfGJB9rdffv5ZQBbl6n70WtrkICWk9ut89UNTwOwjro1adrrAohsI8tM3g0pSI6V4SSlIoYu37BY+7k8qTliPubQqUVO6+P+t+fWPn39EFZW8F724Xp6qY8oAcD+8vBMYqzmpP9/97Tp7LFQXZ5MybutFcCtl8fv17RYgITGEhe6MKnDxmfor93vezIOA6oOEcQOzCDO9s0Otny2d47zcMJOgyogr4GsMrdkm0X6f2aZDAyCj4PVTZlIjocmP4AwsJHToG7JjQxMpcn/gAM5MsvC4bK25cXQR1C8de5NykNATE7SM7YdV8CLuyFyLhJOlOROmZJeEOzx2phLfd62IQ6ymt5395YKHanV8uHNxzKJuocVP79e/b6foU/18NxbRfanZyhjnPz+MtrI8U12AAAAAAElFTkSuQmCC\" /></td>\n",
       "      <td><img src=\"data:image/png;base64,iVBORw0KGgoAAAANSUhEUgAAACAAAAAgCAAAAABWESUoAAACIUlEQVR4nC3SwY1cVRQE0Kq69/1uRkhkAAEQBzuy8cZhkIJFBF45BBIgBNZIg2XT0+/dKhYmgLM7/BGo5vU4LztVuPiqFs8MQK18VYuFRQG3cmvEBEQgUSbbMllwrW0pv/dZoZ1rHz32+dxgSBUYy+I9lQoL4557z0szLTQb0ggxgYQGZbmTBjxIDiGcQzE1bQVrcCi3zAos9KiLFFKEwEPetqAoAAsrcYuqLNYlQs2sSD+oRAKFJkFYrpggBmWqSYkIjB7JFGEAsgAXLe49bKm6xGaJVLV+e68qiuzNSg8FDIAX9744/Oudf/kkAqXVtZbYqqVLFIURf4o/NgC5iSgD8TDmWIaQg/2dTZASZEAvt8F9tW5sAFq6/8sKD7taqojoAuVDGdGffz8//2qkT7vSKgCSS6Ql+fyMDK0TSoDNdEFqrDQxEDwnGCEaVKsvd6W2CsmRGRa5K6FU6oteLqZ4SNZhFF9eE6ERNuM3jshvHqaRmQzHwr0OQh3QxQ4NAgewIUhStCxC5GImCZLAhgTHzdVcU6NUIhJAaAEaA3H3ZpFkjsyTXTAUIycxjK7V/8TrNvl/gcGBbAAw0Lfai49FAmEVJwSMOnAST3//WkCtSIJyPpwrq2XmGEf70bm4oumt3npdf/gJX3gOzsqbsJv9oM/98GhGxlsdAsEzAJDR19QemFrFaPbtmYTYJFly9Zem4VOHwR644uWkrOWzMv8BlbNuLwKmPogAAAAASUVORK5CYII=\" /></td>\n",
       "      <td><img src=\"data:image/png;base64,iVBORw0KGgoAAAANSUhEUgAAACAAAAAgCAAAAABWESUoAAACPUlEQVR4nCXQu41lVRAF0P2pc19/pkeNg9oCCREDGRAGEZAJFjYeKYyBTSaoLcAbCTE9791TtTFYISx+s4i3uku6bnf36H3F8SGYJJlkKxzbM8uqMi2TFC2QJFwV1yq1MS64c9zfCwE1o/RopGF359YTBMm5iIDAEhF+W/SVD/8eHT965nrw3cmPg3t+4uVWVWJ48TJCRTFqK3WO5g5ERC3GIoaqEmGxCHkdjilVBpUoC5xkPCjFwMbCRoqoa/D2RJ63GvU4FlJN3OZoFtFwCwIJY4xjP6JuLgJtVAuWtEb37ajiZTElalOQlh8kgnkoiFXQMrrIKt4VVYPTiCGPVnOWkAWJYBGigCQeZ2KwlJIVyPZQihiKMQzFBDBOpxjEUVjRSOMIAKF1AhrpHf22DVZJsVo51nXpYPUdzHUssnIeVIVsBmRC5jpE/XL+/efr6+s/N6VcXpvQwuEg2tCqVV99/R2SYE+XBgari6hqKcYAYNCNAaqicQ3VTcYQBpoEEMCZIhkOiUtRdTpwB2cl2WAkBiEl7oY+58r5DOzKHrgyU8v3/Cj0TDyOR4ujQWVjgyr/H2/BhtyrnxMEM4z2pLQMItIgrSb01BwwyWSw5UEoOmA8OeKXTjCT/PUJY/l4Y9mXW7KQKHrhIBn+8OX6A1vK+4YufdEKrVl8CTLJ+evooUePx1OtNceY2dnNfUzP7qT7xy/2VK0bcZQx78+tu4qeE7DZ+O3nzuj5meclUTZHQI5+7JnG4Kfv53fmP1aNdgS/V9AOAAAAAElFTkSuQmCC\" /></td>\n",
       "      <td><img src=\"data:image/png;base64,iVBORw0KGgoAAAANSUhEUgAAACAAAAAgCAAAAABWESUoAAACKklEQVR4nCXTva2dVRSE4ZlZa38+OLCcWEJYdIAEkjMHbgQhERBQALRATgkkLoiQIkAiuD9n7zXj4JbwPtLLb1/bIW/31//DVTkFeeURa0WP2B2D47IElDpZT2lIklJQd1GAm1IPPK0DjFwYABi0KE6CAjpsyZdL3CQusKOTfY4nM6HPmXvu5xAmFNDVRZZ8oTRidBnBSt8YrRpQQBU6iyIhGWCZAIEQre7OEEWy0YbTcC30U+EBHSqixFAHchMFEGERIow0RaxUcYrXKCyGZFEAqTQDEkk9oy/koYaERJE1cGmSs4fGgGwoSFWrWYVar9gKzfC7X26FVS50whme3/9VSDUFYFXeSkwWZMIK6v1/DBipWN18JRa7I9AsKvoQYQCRwOC8NSYDAhQyUL5niyrRYFd/LQpiXgDL0Dt1L0HQ4MjfIC8hgYAgQS2ylspKp945OTW8Ix6TMSnZ02qPKjdCFaIqRxzIpzI6lEGsXl8dTQ4Du2kJwRu9uSA164LRK8wKfjs/beP5TPxQD+aTQBsIxvGAP+pPJItD3niLqMABqwIY8A/+FSeIkL2dO1uoJBNaiDE/fwaTjJwjY+m2WVXA2DH8x19+ZDY7nNkiBcoN7pOTsT/9/c86rtizJ7bbXQ5hhumtj0hMDXa5MFb3DlxlgIhyL4s+YjmTHQsrbB3PADmuCBjx2fKBcfqal3FFMxqDKc7unPs2R915ZlH3KqCGhcTYK2MTxfkCjrGDx/agRTEAAAAASUVORK5CYII=\" /></td>\n",
       "      <td>NaN</td>\n",
       "      <td>NaN</td>\n",
       "      <td>NaN</td>\n",
       "      <td>NaN</td>\n",
       "      <td>NaN</td>\n",
       "    </tr>\n",
       "    <tr>\n",
       "      <th>3</th>\n",
       "      <th>image</th>\n",
       "      <td><img src=\"data:image/png;base64,iVBORw0KGgoAAAANSUhEUgAAACAAAAAgCAAAAABWESUoAAACaElEQVR4nAXBMaolZRAF4HNO1d/3Xt4M6oCgMOAeFAwEV2Gm4DbcgqGxoQhi5CaMJzDTQIyVGdRhfLe7q+r4fXx+84jc+MkXnUPJ9Hh++RqXW6vJD64ziWzM4uBBVahre+7n225NJ7ZqcWEokwGlGdvqp0fgTXZkak0WqBg7akFw5op8uj/eGE7RwmYiiPAKFJWhZ/v58PASXbImWCQjVGKcVK5Vf653uN0oKZVY1wiRHUHcPInrei+fPf67pirHUSp7DMKl0uF449f7q7sv24NzXTq48QRJhqxZyTPbj761S7kGvdXCBI1K1TRCfLznOQFM6npYKS5FcTVVfTFncPaMb5M3YotT4W9e/fHb7y8LWsV7dI05OpzSNlyxx/X5808dgPPEgI3z5x89F60IXq69lYgAETwBwpr1ontaT7xWtvoC56xij0QIrfmV25V69y2lr5cFaDxpigaHYZ8+DB3SGRzSdggkIEBkSBEJzUAz2RWkGwZp2raxIadz38+ZbmQhW2hbahiYyUpZ+1FzTtsKJyZCLjZh60j6yLrPLMzuM8haQJ9byzPuhCZ0d8944pDY0f0Z19CDAw5tgrraM9ULBkf4AX+hYW6jBwZH956pBt+3PajRP9+6DLQGcWwhCGY3PpqxgZonX0Hu8tShcmjOc59yf9wunNbn/d0xQ6P9odLI15v0Hxxv2240v68vxx025sXhm3PYGLm2s9SKI3GIHEzzWDOVtMGe2KOFcphhA11Yd3I/k4wZumjt14E98rGK9t9djXu6HYazAnFXE/DE2J6fxl6dxtjjKnOiCUfbrUG/6PLh/wHHQOUVaQbkDgAAAABJRU5ErkJggg==\" /></td>\n",
       "      <td><img src=\"data:image/png;base64,iVBORw0KGgoAAAANSUhEUgAAACAAAAAgCAAAAABWESUoAAACNUlEQVR4nCXCPc5uAxQF4LXW3ue8370ElU4kGo0ozIYBGIpZSJgFU1Do1aK4UUiun3jP2XsthTwPP4m2a7+NFJJaBVzm66yFVieBQiuQhBS3puAYWRJ9TB0H06IIsMCoAXWWVm2DSS0pimBInyFgjqLAAglLpYIkkW2BQjFqUp2cUN0qghBAFCpRUAYFdbgzAwdAwICCWGJ1c9g8VAe6KAgAybiiRBqywk/3sT0+lnlHMeeVpn2/7PP0LNWk0Ns8jKN8u6QuCsdddNgqoUr9aB5NRADUgqiDqFOtPpyD1dOsKl6n/Hg59vzjZfuaRxOBptwPn7iy1Xj1ut+eH/UbztINaZACrH0MYh1Vzw/f/PnBdfhXsZVykSx6n74lzx7923n+jr/K7q6g8AhDkYWnLLxN/v7lSKXuu8slboUU4BuQzcEk0iwhhqhlkfGIhGeNG75zPe8rrcO89c/3RQgC+w6tgb6+9BK7j60gp4JiwZogWM26mUhitW53wOxtrDkMrOD2KKOTj/M8vxCwJQCxdgxzKpHT7Fr0Z8ld3kKYLa2wZQEn+sTjrvnYKaUDMTJqwZjwdK/7MfV+ENMrwoxDOGIOs4e57hxbI6kSBACyEFCb6cW1QyBUXBjwf+40TkOzt2uudca5vsqX6x1PHB/wgaYnV1J3Q5vv8FqBPLTK7OfR/9YKnGyZWv38zRqAubpLEeWBPQzumcl8/uM493LJd1lN6bInsIkD5k/4wUzBmJf3eo7u/wDAw5a1dNneiwAAAABJRU5ErkJggg==\" /></td>\n",
       "      <td><img src=\"data:image/png;base64,iVBORw0KGgoAAAANSUhEUgAAACAAAAAgCAAAAABWESUoAAACRElEQVR4nAXBsYplVRQE0Kra+77btIMiiAgyIAr+g6mxoX6DkamhmIm/Y+SXiGDsINhgMs30fefsKtfiF+lwu+W8yt7KiWmvM0szVHcIMpIVSEpGgYqjAwAiGgRuKhYAhx0yIbxnIgqN3nA2RNJhCjR26ARXWoWgyFKnc0JHcGQVyrV4U6NCqVKAQu7SvhHyo9x6ItoiN6lUVa+jWM2cW1EVm+rmqF0EupDgoY+6UMC5z3XepaDK+OqTa8vUrZi7O9XNU81ml0zxBygKxV4K4Pvb3/+89P7bogCYjMAqMWaS8Pjwg9efym2LrcqNqiIKRaKJgP9df7yyi002KzQbDTIkFTpv/ta7C7t0FIdFIBgnwbId+6nw/PKyV5emXADFKGnfQFDOzCK7+zjg/bWFkQZyaCG7nl21PJB0w/EtYAJVoDQYdN5ueWNv3RqHHoFWIszOdLRBtjYp6Ea5Fokh/I2ewiCVK+vlnkr6ZmB2g9dD8bd8VHdIGwfcySzqmNN1aHKDd359ZqQUmJgYou+8J1HFpdSPeQkH8V3ZbQDaXF64I0rmF6XLkxDRAeFsrU2c6Ewm/P7nfxgoSLUEoN3zTgW74b6O937KArwrOK9CkuqpvS9r186BGTK0MpzawiFob89LYCh7FCEb3spDNRG6B8PPM1oNLNbsGk7ZwwPLqAbE71zDrVBxWdZwf4yn4xCtNWs+w2DA8QYcEx6+flMzD5IyAGDTd0+u7cksex6+fN4bmh4N/FJQhCB0Eia+/jr74d9H/w9ko6rCk94fkQAAAABJRU5ErkJggg==\" /></td>\n",
       "      <td><img src=\"data:image/png;base64,iVBORw0KGgoAAAANSUhEUgAAACAAAAAgCAAAAABWESUoAAACOklEQVR4nCXRu41lVRQE0Kra+973poVEDINJDphYeDhkAhHgYEAaCEEUkwMmBhIWGIOmpz/3nF2FwUph8bPanofakbwhBJ9wXrnvFmcfu5khJVGMKmDCAE1Bm1IHGivgHAOwkFKUEEFN0orIM9cZnSGCJiVTc+LCRsvgJkqTBCFiQKtKZKPZSFi1SmxMkTnYk5wHAZfdBTueGcwkMlF7uYhDLwGqyyfsO9qH/WvQeXn/1x+///3Mu2UMP59a9aDrQHZ+YwLAqguDTNaf3aJu7fMYAiQtmLkYhUZJIHymklIdBhWWqopFKJIqONSprmNQoo8CoC3KIqSwIILY6wbG8rCgzrCmIAHgGWSO3uWQluMF0i6DAtk5oAo8pMgIXQLYENW3yYxOqF70b7RLIyAJkIQfhOPsAkkW70QxlXz/kwMjeL36jc3y4jGsrwQi5Lvv9PUvYJjDfbv8f69ZX5oI4i/89DODAJhuBud1A+8f83aDCEIISJDwUcT5aZ1z4+7bmDswL92+WTaz+ag3N2c972djzba3B/nW1w/lDGo99Xutp7kLs3oDaHDqR+stNLTzj2RJdq4ZjSabMKJs01Q+9IvWBseLLPg6eJWDnXhXLj72dRp9BdrrxNS0JpbpQcx8EGdBA4UHd4I9DgIDiOnHfj3sMTLThiGsNmMnmwRWD2GLQ7zezBHlYZJNYWePgIkSWrBTtIMJIGRnBr3jHm4jecpCG6FrjNgEbz0DKZus+8OEO8IYO4CdjY//ARBfwpZoh690AAAAAElFTkSuQmCC\" /></td>\n",
       "      <td><img src=\"data:image/png;base64,iVBORw0KGgoAAAANSUhEUgAAACAAAAAgCAAAAABWESUoAAACPUlEQVR4nAXBsY1lVRAE0Krqvu/PSGOAkBAOxghMQiADAsBEIhQiwAQXA4MQiIAg1loTCS1iNbvz37tdxTl8ttj86csUsiILSLj542uHu8NniDPFRa06sfM41KCus+BZaCoNopwlcICrQTrqY7uLSgQmMAuFoMgiWWJhMREXaN1KsDchrBgcUpfHaAEJYBpVVUCpSlpAcUFAo0hK1ShWVliDvk+rmvmXaVEBYRBEtJeK7EYf7qi6CRckKTxSUpWUBwx0CDejgWjlmBGn9hyrjnWC2Te1blazpQPq1kE9YY7DvXDnsfD0/uG1WtA68xsjoZLjTsH09fLrfw8P/4gtFatSaJhkGkCb69Mz7446VwvGxQotmQhcoTV+mfp4DpQmCQfZgAAo3gr6/ZzTC10JlSgCTCiGgiC4p+auvh07IsMgbQZlM4QuQimr6kA+8RAiEkzCcJKBGLN17OZXgmVBNZXUBjexM9egb83o2+sxIgQXgqmUY5nc7JtQ8412JRq/efq8geGAsUYVNQr9RDp23n39xXdJxqCFlkL5MHPGnACfffjjT0x29nhPtinhRZEJS5k8ff9ziBpm21fA0dDwZccGP8Z/bZogeZN1dGt4vW4anj3+/eXvX4SZXNdMOpvVp6hYljX9Ax49BsOk1MSo5y7Swg51FuCpbASZiChqggnySg4I7aE3M0n3cQhu++SytYULSTjWBmeKvp1r6zJpZzAe+xwnAyRYH6CFW8chBjrLopEYW0jO57evWpf/B0IVn/0uHEUSAAAAAElFTkSuQmCC\" /></td>\n",
       "      <td><img src=\"data:image/png;base64,iVBORw0KGgoAAAANSUhEUgAAACAAAAAgCAAAAABWESUoAAACYUlEQVR4nAXBIY9eVRQF0L33Ofe9b6ZpSWgQCCrAokgwBEEIsoYg6hoEnv+CxqKAPwU0CAjTUibfvHfvOZu1+CEH+kcRDMkdTdn+7iHMufvmTK08+1uWblnlfnTMsT76pGCabjMVBINEhDvWTKV+/xOKJkWGLChgyAwXRCFJwDDoltxrueyF2SDVI0HF5hCJrTNthVoMLnQqSCbyJMmFpayAAskRITADkHpI6NJ+js4hSwAkMuZgxIqM3La+P5RUMibCjpGwtowk28Dt3m83blFJRCUa6NGtjTsn6/bJ9bH/u+7nVmKCLz99xwTzds8LY+O7z+rzm94fx9g73aUvvnJQZvJMmJyvf7j74O/7fPXImZtHAaQYbAZhWE//GcfT426vJSW9LRCYaJoNtOl4+/DXw6y1HdJFVLu9O0zKSDvP+znbFQ+t5Ca5pEWLMlXBPmtWnUdLClaFkkq4sQiwvTx5lnhW5XaMnQq1QFimCUSh0LO1SkI8nzWX3DSaBfRqq11iARrUl2myrfpt0gkwGXQNxAZJMTagunC8ePZ9w9UNsYhadXJpDa/uaDh/8itVq5eroKHIbCoWYHe7oPqmaAfJ8joAA9S1zgZgGxBJrNraqQq4AGgtoAg1zl/Wr91L3TC7Hft2ffNvngirK9T6Wj/bRsMSpait3LlITAWNpi2jZdcgskXkg6rPQqAAAXYTBLUuOyJlZfpk80wugIZXZxkRubrySKxsPTFZIpblDLSj5+W916PnxY5c8VmbUUEI6nay+s1d3sz72yuPyPbHRZGNFSpkNlh/vH9ZlxzX3o//AZoFokRACqAMAAAAAElFTkSuQmCC\" /></td>\n",
       "      <td><img src=\"data:image/png;base64,iVBORw0KGgoAAAANSUhEUgAAACAAAAAgCAAAAABWESUoAAACZklEQVR4nAXBra6dVRgE4Jl519r7/JQaCMlJSlJJ4BJIkFwFCoVBYEFWEywOgYDbwVVWkCb8hAYO7en+1npneB4+eacvp3Wif0oIQe5iYMdfroCje4OS0cMEiakAhFw+L2KcK9TU9hcBz9Tiw83dpx/e6WQudvHpTWf0uEC1dKu16Clq7YFjLmBotVZ1Uys2SARIpJlmaY9Ryok9OWSP2ogmiwsc7WxICI+05W2j1/Zmuim0NKIxmkVwFFuzyEvNkucCU93CKO4RmQBTrIzGOXV27apz8a9BSaQhlE+TMHmOdDZvF/s8RzpcJ/VsiRELxVNBWChNa3DuwYnUXOdB+XqPR/Wu/3vy+6uTPO6HkLD2/BEDRvny4vnz3x7GBy+veLx//89pnHYJO4qCavL6449spgF++3o9/nNAGq0NCcyItcHRYgP/FioqiQOWzSQcEGnGCbBwHBqaJ3u2RBZtOmAWYL/JsSliusj34IZNQcwlSrjm3uG4Cabq8nU8XYJNZVKL/LshWJgoYj7lINCGGHcftF+szl7juuuUBIBzTACWAkb9K8ummlddqWVDU14/vIqx5c4fV0bV4HHTmVtY09Xr8591lGlmvzy4q4X5pvfKijjC8ct4hk3GqCMocjys4mptwmGn3r7SIow4kgcVZy3uSncL8PwulQ6yzU6o128vu9cORtTR9+vZJd58a9ygJjKCbfnBXLVT/ur+GzS51dyZSxZowZ+w2dB2Hnf37gPwbdWNxrCxuz5bitZg0iS9a1kZO8Njocu4kz2xK4DlXWnm0b32kRGwXdlkQ07LKiGC31z3sP4H3GHFJAEn+hIAAAAASUVORK5CYII=\" /></td>\n",
       "      <td><img src=\"data:image/png;base64,iVBORw0KGgoAAAANSUhEUgAAACAAAAAgCAAAAABWESUoAAACR0lEQVR4nCXMsY0lVRQE0Kq6t7tnlhUSBiIKhI9EGpsCIeDgY+FiEgGR4BEG0koI0M7M7/duFQYngMOv3+pcNVeSs/xav5ohsuHV3jud6oar9CYlh9DTGLW7V3Ra1TA0yKWk4GaJJcxGNaguouhWxxLJUKCpEyD6Lp0UQ1BINJNCTKSaUvGEbv9/sq4LRzWbjRbWD0OmoEiFo4iQigIVSbwePwMsUMdVKil9kKU6mCLB97//dgYltetJdNirUuMIkGV960/dZlRX03UcdT29U5+nmgyOH4M/jqCOfl/FbPK6932kgERF//T9dx9k3uwvXqJKzV0uRoXQgPILsT2MPuORhePY7Hqwl0oqxNlDoEsvD0TMskTkPjJv2BNScITdfx14vgGRnmxL7N2BGRFZ1bfmYYzrXgfIJ2C0GyRhpLZqZ7yUMdYIbzDr0JgyEqjHNTFRDuI5wwwnMGqDKD0yEbOXyugaRvAAwAIzq7UOw3QWnKkQBgUHGoLoh1YKjoWlfR4ZGgRAaOjpLfIwYNvB1iCEEzjGJPwm5OGa68qD1qnnx2vz6fPXf7+8331a7LezfMPcJXqOyRuw0S/X8c+9+pEW0FvY9OL262XCU4vr9Rkv7XSm4x0yiH3sI/QsDPKycIw6nnJq1dqVWQ16U+YwN8lpZPZz5t22svOwPAvsjRu2W50OE27b2iJMhHrkHJvb1dmFBfS6omO1MHvvk7jHgQCFpHwie983qQ1Hs2UKHk6LmA4xATPyh8f6/Pm8zr8/fnz/51d+/g87Oq/l7bX2zQAAAABJRU5ErkJggg==\" /></td>\n",
       "      <td><img src=\"data:image/png;base64,iVBORw0KGgoAAAANSUhEUgAAACAAAAAgCAAAAABWESUoAAACUUlEQVR4nAXBvcpdZRAF4LVmZp+fEBGLFIKdIFpa5F4sbEW8IIWo1+MNWAVsbLQTE5N8Z7/vzFo+D79KJWZu68b4kSQVtGFD8vj3WuWgw6FyIB1B00JNYFITaIOJyCNQZBAMRoSDUcaqUkStIxkEDyIMoxbhaqSv/AJ6DuG263QdDt1Lqn0JxN9vP/v6L34J3BE+zEWS4eeRzr7WR+/uj3+7K4EkV+wL4xAnEhrw+uyTFXWpFajI0JHFpNN1TPgQ3j/+vNfT0+oqwwkZgq4SAGhnxvY/frtKEcFggAgmMp3a6v2h/8M8OgtVcKEzEvSUw4imPHj43DxdYVwgl8XgDoQbTciTpg/F7Xa9Mm+uQxlFW57Y3j56iEZd0Fe4b30Ma2UkWOvoY7Za6qOuMnlBBmt8PSPHrT7MscGMuqzjtlCN+/IrBEH47R+/vX7z/gbQqrOA+9PcOemECNgfv3y5bI4038flmQ5FXCMEIQkk97kAjq1wxYd5rKUH1iZhhuQy2E3QrnpzYMmG7KDNCKFFKgfKqdrYN0h7N0YOoolgCMOmZ4fUD7rVOVDQ26IgEM4WoxbGs9llDnZOhiZkG1YMUVgzQ9jTh4nAmYBCkBoKREvdIA8W6bYqOGmbKEYf0eNWb1teG2HP+LW+kbSlFksIzJQkSSTA4ed9M0Qr9LzcuE5bPSYVMI3+5deGbI0fwaCYEW7dxhrZrh++tdG2/RS2R+s8e9YLubVH3/UclGgjEAOLAUJ+EQOF9FOsnweD5T7PknEGcQL+dAwEO5EDYWLj3fofCeDv3/kERVgAAAAASUVORK5CYII=\" /></td>\n",
       "      <td><img src=\"data:image/png;base64,iVBORw0KGgoAAAANSUhEUgAAACAAAAAgCAAAAABWESUoAAACiUlEQVR4nCXNsc5lYxgF4LXW+3577/OfGRMaiWQ0imkVCjoSLsFUEt24AYVSolaKkkSHQkKoJBJxCS4AmWiEmH/+85+zv+97l8JzAw8fgIccbup9fg+yQKOK8ERNP1SISpnM3EKwwfnQj4twg/hsinsWGyAZdCDdvvZzzYsmW6eElAnRSIRgG8TRMiTbUm59VQYdu5halAh9k3KSU6nQyEoUEO+HzBD1k7+YjhFKVWYPJlUVelO0DeQb/JZwQoVDrjGb6Mkp0mHLhUpcUpMV0PSywpmUAJmyqXAtrOBy3rVQCoCVDQGZDAoS2KD5lXLmEiBCdYqBiAqDBOEC4udSWzNWTmd8jAg7drAMzEkSRGpJOlS7HggW0AzDM2hOdOamBWPpgUlzpk2IMOFS9Jip5ZlramJdCQRI8/+jOKEB5XzKQmtbGHABhIsCgoADuiBrSkutgEkQgAgBRasqF3dGv8j9vePvb78zqqBWvVggco8836mKqdnazrs//jBze7J9shQLhv+Qc9xKGAa6WptR7ZzjUUzr9vV38WmAb7XB7POwynHb7a2iWyUQ8eTUUsNRfdTAIG9rGAmGiS2Xkwyl9kC3Y9d20xBDitA5HAAiObXPPUReJtBnz8C4BMsxllg6RyTMqpjrYkPLgrpb81h3avv7eFpyQuU59wHa5937Da7S2zkP9+qF2mikkjrHDl9CPe11nyPz8OLLx9O67rpqubvNbn+ep4/GucfT7XI4X/Z7v9x/6bd/ss6NrwV2Rv/Sspy8XH9wZ9zm8er5Py/6i0m+SnYsH94PEIEcnKRj/vrdv3zczhp8Rejz6jMgLBDSHjDKRT4as11nL01jD5YAaIC2XXL5Zumj/gNp04OuU5PedQAAAABJRU5ErkJggg==\" /></td>\n",
       "      <td><img src=\"data:image/png;base64,iVBORw0KGgoAAAANSUhEUgAAACAAAAAgCAAAAABWESUoAAACbklEQVR4nAXBMa5dRRAE0Krqnvu+/TGyhAQZARK7ALEHIhAJMTshJICAhASHTggISFkFkiVYAGBj/Hnvzkx3cQ4/0IVnKrogWRcUKhjEduimnexkSwQz97ACRh+is7q8LQtze5Ub3WfDtYBR24q8k5kJKY+lSsLxaI+7WSPewuPbNecjz4QIA6KFAI7gCB2DGtqPbugc4tFHxJliuoY68KTeeXPfL8fT19enwqCNsptYG1Wzau+Hmq/+8e8P2lIOqVNiS1psNYrr9ifefdC6dR73MxdrgD8o/vj2xdsNVLwc+6YGyJSJELtD8vtfy0hMj+tPz++imf/xoydnX+/PWvyR4pZqbMf2BtdX6tYlYw8e1IBRUmPa0xYKbN1n7AjkzPwYagoyi9mGHO1WPo3reZfu+gKQeCadbsCgzaF89Oa4jI7LelyWcdc0iB3RQHWlZq/LFXvyNtFNVxcax0ajlRF61f0faBzMBq8FoHtZzQpEOld16cZ6KJZ0AbqJXLGJv7xMlVzAhMjRMOD8Tgyn6mdGQJyzujjnZqtdBH5pA+389bgotct1nqesq3tz+cWXz12EjQt0UF5dMuOoBKJHf/j9Z1vdxpkhSwXZQqzAxgY+d3wzQLYTLCBf35dOsz51c7P5bOO9bpvtfPJvMXuRW96fuHMlnEBvsGLqenaekmTYvndgWCqYESssxLqczt4truwz2sENFtBULfWMVStdO7qmisJMwoSxY8uedxNIBOnRQVZaJggbG/ZvZYxr2iijiY2NBbh82aB3PztUQKJg9HKDBg0ctQ13++/avW9JsdiPo+TKJjCJZjWrNI/K/wHOJNO5bYkTIgAAAABJRU5ErkJggg==\" /></td>\n",
       "      <td><img src=\"data:image/png;base64,iVBORw0KGgoAAAANSUhEUgAAACAAAAAgCAAAAABWESUoAAACkElEQVR4nAXBvapdVRQF4DHGnGvvcy9JxBCNJg+gkCJga6P4FhaCrb6LrYJgr8FSfANBwUKxsNBGVBD8Szz3nnv2XnMOv4+vVHbe8NMBJzJOPP7y1891/7lPfLGdN2Wigx4f/JNLLILvnO/ejULjs2MNXw+mInfggRnT26wrEJKIt77EEsdARnNscSA4ggCaLuyqN7+gOiLSDcdW4rZCJiEs+8XOS3lB0MmDGpyh6LaDrA7u8BhwBEZ2QD3NHgW6Aasg92+rFq47pNASD9ex6rDoalwpnYK3J1pvN5VSBPwoQ8Gh+7r3PZfIMcbxhctzrpWZg1jeWeCgZn988a7RBtc/L2tLq1JQ6+FUWE2957wJwa2tDmID6gb3vWAB8YbHaZXhAOLZ1TZ703DXYmgzxK/e/2F1pAbHdLQBJZT7dPjCpvaPmmi0yJ4M1Jh5uRGHFIygZQGcMnDTC3YVRRSAJulCC0aFTQTbApgrZ7QMixDahGgWuga3ZmuP1IdFN6xqZQi1WEUB1uxc6DrI0QAqXDRUnN6ziA4rSKs1aTnJCIHVRNimuuXqUSg1yuWqOVm0ie5CCWobKkMAYJKCYaYT5FIj+5rnkk2wIcM2GrbEyrl03gBvz9FAC9gSbsDw3zJJIrKbT56sjvHqoxdfvu0oNeH6bjnsKQs5e/QYc/nvm6+58IxDZbz2+PlvlZy1+IavlyKWGMeGDzMtjPV8h1fzztNxc26k6XJ27VHkMjCuydV36qVnx9OtvJkKF2gMQNalNWLbKu7devz7g21g76w50YihPLlVh2P3Ybv4cXy+/rQ8jeuRcycYnqe54bjXFsf1qXz5B3dfP3daW23uffaGHTu2Op1YGL+eD/9eb5dbn+t/tMCoAYGzzmAAAAAASUVORK5CYII=\" /></td>\n",
       "      <td><img src=\"data:image/png;base64,iVBORw0KGgoAAAANSUhEUgAAACAAAAAgCAAAAABWESUoAAACYUlEQVR4nAXBMY5cVRAF0Htvvfd/z7QxkYVEiECIzCCxByRE5Mj7ICHxOixB7B2wFAJExA4AT093/1dVl3P4dZRjATovzJrq97CKTa6Gq8ckoGINRKtgkGgyWkGXwG+7HVU4jUPzmCtPWH715ptPqlHo5nd6ju2mPCt9WvOKUOKF5+EacfviB36vq+DECyeB+YxHZH3KiXtPnI77CIWQYYmSMQMMcYbntn3Wf89Ba5RoQQwURGLqXPfzNf7rl7cxaKFU++qRW0poMa6Ndd6z/tlHcDbCASG8rJYEu315vOfDw0UqK2JqcpA7FA4zzUTe65I59hZz9Fg0A5HAfRirDx/DqjUeD8/W0ugmaQUbqG43NPuWo0/m1jPYGrcJBlBhVXk/4K6xtfpQn2ou7j3zVzvK+OvDn54pY7zk4YC3ozU6TdqG/NU73e3SkxbO2yZGi5tfclqDBLrWEOjHYTznPaB9UQ//jgsaMFpog0oMPK1Ys1IZ9bH7tU0QWqaTBetjziPK2Tws+i0JZIMkCLTHxUfpVgvXeSDxecseBgFECh5PexeQBbSd4XYTpuEylnLUIZSxYKQxQAoAbRAtW4ATsQmxkaxCokz//mHrbhS0VlenUM42ywjLmT++/TlNE8N9FMFtHGRXtAG4dDy9Q5P2QNPk7HJ3+1rDsN0jRjLRKbkIlNeqTr9CNyxd6+EP25VQYuXKyyrd1zp+Qle5+jf/8iUbgPma9xjNU9FFv99koM22q5hVowkvs4iu1l4rTDLZhgrUSHQRkT3SKw4RQElldsLpIdMEGdUON7BkV9vFdsH/AxFi6bTxA0shAAAAAElFTkSuQmCC\" /></td>\n",
       "    </tr>\n",
       "    <tr>\n",
       "      <th>不明</th>\n",
       "      <th>image</th>\n",
       "      <td><img src=\"data:image/png;base64,iVBORw0KGgoAAAANSUhEUgAAACAAAAAgCAAAAABWESUoAAACQklEQVR4nD2NPa6kRRAEM7Oq+puZ97NIrIOEMLDwOQfOno+DIDwOwRkwwXjLm/m6uxIDlrBDEfzxXi/87INzjduD3fFh+sH38Zu90S1EEVSkqDNLTqrVDYjJoIw4bK7oHN2wEMmKjwcgiClqSJCQfBySkBB2+5mAKObq2HYAE9fj87QBG2H99PTXfn9qOUhHQZEXMAhmPAsM5TI6UwlRECQFNyVZaW3ZKCIVjNHRVCboxIFg2+kjlxjZlJFKR9z1Ee8AweqqZhhyxlUnsneIKGX8PRIb0VNEmqkc2YAulYijHy+WGlnHJQ1FMJmIgLctJ/xo9dyNI32GWdLFGsEhRUX6FlQV4jV7GMQZiTv6wJapFur0utTew8qVy8OZwlnYYwrazJaaYURoRSNCLbN7V4AVDDIDHoQMH0cpi2C1OxpAssatC+fFKxVXxT0DKAjqcMUKRogPcM2f3375lVtZ2CM6qZ0ZYUpOSfhz3z59AiwshaImKrg06IiTirEIAKAQESlWxbYGNBQzKhH4l8y9iNwkI730KOcx9xz7ixB7bH84K94yNPbsfAOAOf8TBCGeOY4XW6jlAWG7d/+/4Mp2hANiY2UTmvd1fCkQV9u7yA0k0Iz2XNNAG2iVchRzCWl1GzTJmN8DRBOJJz1C0SSqmjTUHJw/NLdz/5GK7Ep1kmBL2LsLyW/Rtvc1cwyk87JKzvbtgZnWmt94rzjjNb975FlAn+TFBOJx3btOfg2rtVJ6rcFxowMu7JR72c2vuvuc/P0fSmM6k2iv5ysAAAAASUVORK5CYII=\" /></td>\n",
       "      <td><img src=\"data:image/png;base64,iVBORw0KGgoAAAANSUhEUgAAACAAAAAgCAAAAABWESUoAAACMElEQVR4nAXBsZKtUxQE4O5ea/9nzgxFFV6A1Jt7ArEqgcgDCAQiheC6d8ycvVe37+N3XPc8mC/LH5/5cX60AibDk3Cmz6Jh8fWm63GM26ZDQFnxplRuo5WHgxj4d1FNqZpGs8QG/ju2YxgbH9KCugQtSVAsERNUvEL/ziEVUGJYJai6efUSlm5dv1ZVsbpEXiUKCcRDdmFC/USSAlGURHStoBEvKEL4mwCZkHsGkDjvbyiSdJSuwyqIIEOxqheuhKW64NFzLcEkjHWMAG2NQEQQQ+ubn3/58Ncfr+ftTvHuw++pp1OT+8sZzspXn57+5n6md9uLaOS2YBdYHKeGbC/f4owiapCzNxB7hAuu2kDAUtFUX7h4CoAoFEDxxgBrkpRbcBjDJmI+uFhChgijCK3a+wsO3yztMo+VMhWyQ5TCB1gAWgm4AEeCrwqjioiL874WYhPsqiofLgTgpDqg5PsuVr/y7uCkF5rN9ydoqaVisrAipYQFil2Xb33G0x2yUNOWOiJKVU3gjpdZVruqgE2xsI5wy9Htygt4rk+3ksRI9VRdTazFdJWeXl4ewLf3r/VZr34okU4n1xvI3vAT62l9/o/f62qQZqMXzUPtP38ojAKkZ3unQV2kBmw8GD0rEjngGwY6XUNCBW2hN9NDwD5lE5tsVKYWmqwHMD6gE5aDY/M0Anbi47HtuWxu0dODoSnoXmLlSqMS0tjiQQ+sxP2c/XJocMzpQHAN6GyEsP8Hxb9hRjCb7xUAAAAASUVORK5CYII=\" /></td>\n",
       "      <td><img src=\"data:image/png;base64,iVBORw0KGgoAAAANSUhEUgAAACAAAAAgCAAAAABWESUoAAACaElEQVR4nAXBvYolZRQF0L33OV9VTXfLaOAPCmMi+AKCTzAY+FQ+iYHhZANGgrmRuYkmCqLMn7e7+lZ952zX4pdj+DpX3NS7dcXO3H4gQJ/BH5+zW2ii1AENKiSBYlALvnseJJPyOiuXnHc9Q6tioIWub34y2iHQSbRgA0j4tNLU+nOGENDIVUkAQxY9coxGUEY3QsgpN0cIHK5RdHAYLYKT3UPCSrgcpmxMNUWlZiCacpK2kQq0hWXIgFgcRWSRKUHhYoNpK4EwSDgbTUgEDWbTKYnsJOlAAlCQohlLIpfoBqtTpgE5UgKpTnc12dQILsj8jyApGoSsYYYyIsciiUT8SgkkKAYoqJRj3V+9gcJLjn5hAQAMz0l+xW25So/WLctrbWjPu8sn217b/vThIkkmkOwmCfhyr+VcpI8//zbffvBUMaBQxkg4lAqootjRz15mv7nJwIgiwPboKU7A8zz7/OfPu4d89yopr6cIhEDNsLqzed6Tf9d6rqkxjuWM1LWbFkTE0bwncZ2ayPQx5mhWYiliEjzH7DN4nVFzCjm20BpgKUXB4OFg2T2PZuaGlQcaXFkZHRMkp9Tl6aC0YfUW27I4szmGWgBBBAI+8laboNxTR5abJS3t45zv3X792Rcf3uRHD3MdCqkDMdbr1vX90abdUB2d9f7bx0HQUClxuxuzoYK7ZyH0bH+yXitsRPCI6ebZnl0FaKj0x6eXJ5Gnzzzi3C5z9nztxpRd82gLf+Uu2Hmt3XuJk7+1Z5zddLr1+t/Ldd8fa58MAnW6funqLlSx0DlL1lFt1JEz3MDvmPE4uuR2/w+RQYEOHIJ+pQAAAABJRU5ErkJggg==\" /></td>\n",
       "      <td><img src=\"data:image/png;base64,iVBORw0KGgoAAAANSUhEUgAAACAAAAAgCAAAAABWESUoAAACB0lEQVR4nDWSUW5lRRBDj13VNy8MErABFsIiWCgfbAwJJCSSTG53mY83swEf+dj6zVI++fL+6p/77f3xy/pv3vfLx4/5Yww4DGWpr+uWLn/93MvU1Y0Bmt7agMce9fyd8+vjlrdPAXg0MRi/XGySZMQM+40AvTKRt6iiUYXUmxD//F6a/ZO17Fp2oaunbJRVzFbEbEzWaCzR25xAjU/oMv4k3cdfrmF70lm1a+bxps4Ri7oxw+CxelVmK4Dd6S1bxsdSyjv+GrtyCrmmxkpUacmLVKQjynEkcrEBSbJ4CbUMbUV2RQhdrdyQ7jk1QSUKK8W1vsazrNdoaI3TfEin74VuyH1X1mz+DODSpENO2aemrLMrZ9dKAAwhHcdVRInddPGZNd/GCor8aDeW5caTdZjva8IwU7NnxoNzjz91+fEdQSwxRJ/uYqdXqssegA7uxLg6RU6pnFxIMs/LRcdQoEyVwqz+sCHPBBerW93tblR3ranL1PD85Ew0//apv9YPa5nWSdulEoCtMVWOy6mgUNDlPvqGaDiyJr2qKBzqGNUIcLosyV1FNCF9CbC+mVyWNb00dlUt+5FVrXrR02S0oTQk6yX2NJ6R7Mezhbleo1yk6ZiCXTKP+84TVS3vlbo41qmp+71+PPnwAsBlFyqvfrxSd73Svfoi6OmB7clJSFKgcxKIn6Lhfxj0KQGRzY+2AAAAAElFTkSuQmCC\" /></td>\n",
       "      <td><img src=\"data:image/png;base64,iVBORw0KGgoAAAANSUhEUgAAACAAAAAgCAAAAABWESUoAAACaElEQVR4nAXBvaqlRRAF0L2rqr9z7o/oRIIaCYOJqSCjYKxgLvoeBgaCL2Fk5CMIRr6MBmYGMnjvnK+7a2/X4ss84ll15EJ36IB/hQLof15AUFeMgDqt6hQzdBfMTfZP/vM3dxaIhcgExLEr/VUEwvv6s0WyK2G7inQ5kcOfFi0UKEOIoBMksNWzlSs+oBo0iIogi4mOy8g2Y/AwhgIIwjaYu4qNMNrb3jTIJOlgJ7Y7A4HjAjCOYAXDDCYzRDRjoAwQc/Vb7GIgPyRogglQQsRIhA/UNcaIDHwdgQBA2QyzAiCbQIAw9TEdIgAGJJqv9s5F+cXq0rjF/fMXX76Xcrbb7c1X3WHvepw99nijO2zeZ831zSePLYif3XScwLXkAqcuaDwOEPN6uz+frxUjfEAD1SxnkB11CfAh7gWdVTZlVp2DsXCAI+rg+XA+5ESuiAwzEUukaauZ0muee415F5dSQIFjCEN2KGT45uf1ztP0/HeVM7xwLITPQyljxjm651wXPd+irkZf173nZtVyYhWie+fyCWPXZYY6qnkw25G2HHthBS7rtAMX4IjMCBPN90nsbjWAbi/V3XoagqwqzXrxY0B++v2PpfbCbvBb/9eeb689tDW//wgKhbt6xt+//LVVtyuhxzfkuEn5EoApxETsd3/w7lrzDSIvN8+H1/Yum4AgbtgN1twrO1rm69YOeV5E2+02vRG9t/eTWuvJs6Ue3q1tm1xO1daxdHomLh1na9hJwQAQLZbOAfa2t9f+zrEArjJmSqYQN881NBW9HZ+3TSAaHZZbdrVZYieABry5Q/a2KKFb/wPD2d286BUO1QAAAABJRU5ErkJggg==\" /></td>\n",
       "      <td>NaN</td>\n",
       "      <td>NaN</td>\n",
       "      <td>NaN</td>\n",
       "      <td>NaN</td>\n",
       "      <td>NaN</td>\n",
       "      <td>NaN</td>\n",
       "      <td>NaN</td>\n",
       "      <td>NaN</td>\n",
       "    </tr>\n",
       "  </tbody>\n",
       "</table>"
      ],
      "text/plain": [
       "<IPython.core.display.HTML object>"
      ]
     },
     "execution_count": 5,
     "metadata": {},
     "output_type": "execute_result"
    }
   ],
   "source": [
    "tmp_df = iter_data().groupby('label').apply(lambda df: df.reset_index()[['image']].transpose())\n",
    "HTML(tmp_df.to_html(escape=False))"
   ]
  },
  {
   "cell_type": "code",
   "execution_count": 6,
   "metadata": {
    "scrolled": false
   },
   "outputs": [
    {
     "name": "stdout",
     "output_type": "stream",
     "text": [
      "x_train shape: (25, 32, 32, 1)\n",
      "25 train samples\n",
      "8 test samples\n"
     ]
    }
   ],
   "source": [
    "batch_size = 32\n",
    "num_classes = 4\n",
    "epochs = 10\n",
    "data_augmentation = True\n",
    "save_dir = os.path.join(os.getcwd(), 'saved_models')\n",
    "model_name = 'model.h5'\n",
    "\n",
    "x_train, y_train, x_test, y_test = gen_data()\n",
    "print('x_train shape:', x_train.shape)\n",
    "print(x_train.shape[0], 'train samples')\n",
    "print(x_test.shape[0], 'test samples')\n",
    "\n",
    "y_train = keras.utils.to_categorical(y_train, num_classes)\n",
    "y_test = keras.utils.to_categorical(y_test, num_classes)"
   ]
  },
  {
   "cell_type": "code",
   "execution_count": 7,
   "metadata": {},
   "outputs": [
    {
     "data": {
      "text/plain": [
       "((25, 32, 32, 1), (25, 4), (8, 32, 32, 1), (8, 4))"
      ]
     },
     "execution_count": 7,
     "metadata": {},
     "output_type": "execute_result"
    }
   ],
   "source": [
    "x_train.shape, y_train.shape, x_test.shape, y_test.shape"
   ]
  },
  {
   "cell_type": "code",
   "execution_count": 9,
   "metadata": {
    "scrolled": false
   },
   "outputs": [
    {
     "name": "stdout",
     "output_type": "stream",
     "text": [
      "_________________________________________________________________\n",
      "Layer (type)                 Output Shape              Param #   \n",
      "=================================================================\n",
      "conv2d_5 (Conv2D)            (None, 32, 32, 16)        160       \n",
      "_________________________________________________________________\n",
      "batch_normalization_4 (Batch (None, 32, 32, 16)        64        \n",
      "_________________________________________________________________\n",
      "activation_5 (Activation)    (None, 32, 32, 16)        0         \n",
      "_________________________________________________________________\n",
      "conv2d_6 (Conv2D)            (None, 32, 32, 16)        2320      \n",
      "_________________________________________________________________\n",
      "batch_normalization_5 (Batch (None, 32, 32, 16)        64        \n",
      "_________________________________________________________________\n",
      "activation_6 (Activation)    (None, 32, 32, 16)        0         \n",
      "_________________________________________________________________\n",
      "max_pooling2d_3 (MaxPooling2 (None, 16, 16, 16)        0         \n",
      "_________________________________________________________________\n",
      "batch_normalization_6 (Batch (None, 16, 16, 16)        64        \n",
      "_________________________________________________________________\n",
      "conv2d_7 (Conv2D)            (None, 16, 16, 16)        2320      \n",
      "_________________________________________________________________\n",
      "activation_7 (Activation)    (None, 16, 16, 16)        0         \n",
      "_________________________________________________________________\n",
      "max_pooling2d_4 (MaxPooling2 (None, 8, 8, 16)          0         \n",
      "_________________________________________________________________\n",
      "dropout_2 (Dropout)          (None, 8, 8, 16)          0         \n",
      "_________________________________________________________________\n",
      "conv2d_8 (Conv2D)            (None, 8, 8, 4)           68        \n",
      "_________________________________________________________________\n",
      "activation_8 (Activation)    (None, 8, 8, 4)           0         \n",
      "_________________________________________________________________\n",
      "average_pooling2d_2 (Average (None, 1, 1, 4)           0         \n",
      "_________________________________________________________________\n",
      "flatten_1 (Flatten)          (None, 4)                 0         \n",
      "_________________________________________________________________\n",
      "activation_9 (Activation)    (None, 4)                 0         \n",
      "=================================================================\n",
      "Total params: 5,060\n",
      "Trainable params: 4,964\n",
      "Non-trainable params: 96\n",
      "_________________________________________________________________\n"
     ]
    }
   ],
   "source": [
    "model = Sequential()\n",
    "model.add(Conv2D(16, (3, 3), padding='same',\n",
    "                 input_shape=x_train.shape[1:]))\n",
    "model.add(BatchNormalization())\n",
    "model.add(Activation('relu'))\n",
    "model.add(Conv2D(16, (3, 3), padding='same'))\n",
    "model.add(BatchNormalization())\n",
    "model.add(Activation('relu'))\n",
    "model.add(MaxPooling2D(pool_size=(2, 2)))\n",
    "model.add(BatchNormalization())\n",
    "model.add(Conv2D(16, (3, 3), padding='same'))\n",
    "model.add(Activation('relu'))\n",
    "model.add(MaxPooling2D(pool_size=(2, 2)))\n",
    "model.add(Dropout(0.25))\n",
    "model.add(Conv2D(num_classes, (1, 1)))\n",
    "model.add(Activation('relu'))\n",
    "model.add(AveragePooling2D(pool_size=(8, 8)))\n",
    "model.add(Flatten())\n",
    "model.add(Activation('softmax'))\n",
    "model.summary()"
   ]
  },
  {
   "cell_type": "code",
   "execution_count": 10,
   "metadata": {
    "scrolled": false
   },
   "outputs": [
    {
     "name": "stdout",
     "output_type": "stream",
     "text": [
      "Using real-time data augmentation.\n",
      "Epoch 1/10\n",
      "100/100 [==============================] - 2s - loss: 1.2117 - acc: 0.4692 - val_loss: 1.3894 - val_acc: 0.2500\n",
      "Epoch 2/10\n",
      "100/100 [==============================] - 0s - loss: 1.0612 - acc: 0.5636 - val_loss: 1.3868 - val_acc: 0.3750\n",
      "Epoch 3/10\n",
      "100/100 [==============================] - 0s - loss: 0.9486 - acc: 0.7084 - val_loss: 1.3843 - val_acc: 0.5000\n",
      "Epoch 4/10\n",
      "100/100 [==============================] - 0s - loss: 0.8453 - acc: 0.7764 - val_loss: 1.3800 - val_acc: 0.5000\n",
      "Epoch 5/10\n",
      "100/100 [==============================] - 0s - loss: 0.7432 - acc: 0.8000 - val_loss: 1.1814 - val_acc: 0.5000\n",
      "Epoch 6/10\n",
      "100/100 [==============================] - 0s - loss: 0.6569 - acc: 0.8204 - val_loss: 0.6147 - val_acc: 0.7500\n",
      "Epoch 7/10\n",
      "100/100 [==============================] - 0s - loss: 0.5832 - acc: 0.8380 - val_loss: 0.3813 - val_acc: 1.0000\n",
      "Epoch 8/10\n",
      "100/100 [==============================] - 0s - loss: 0.5345 - acc: 0.8520 - val_loss: 0.3363 - val_acc: 1.0000\n",
      "Epoch 9/10\n",
      "100/100 [==============================] - 0s - loss: 0.4767 - acc: 0.8672 - val_loss: 0.3377 - val_acc: 1.0000\n",
      "Epoch 10/10\n",
      "100/100 [==============================] - 0s - loss: 0.4372 - acc: 0.8780 - val_loss: 0.2742 - val_acc: 1.0000\n",
      "Saved trained model at /home/yokota/workspace/detect_number/saved_models/keras_cifar10_trained_model.h5 \n",
      "8/8 [==============================] - 0s\n",
      "Test loss: 0.274213552475\n",
      "Test accuracy: 1.0\n"
     ]
    }
   ],
   "source": [
    "# initiate RMSprop optimizer\n",
    "opt = keras.optimizers.rmsprop(lr=0.0001, decay=1e-6)\n",
    "\n",
    "# Let's train the model using RMSprop\n",
    "model.compile(loss='categorical_crossentropy',\n",
    "              optimizer=opt,\n",
    "              metrics=['accuracy'])\n",
    "\n",
    "x_train = x_train.astype('float32')\n",
    "x_test = x_test.astype('float32')\n",
    "\n",
    "if not data_augmentation:\n",
    "    print('Not using data augmentation.')\n",
    "    history = model.fit(x_train, y_train,\n",
    "              batch_size=batch_size,\n",
    "              epochs=epochs,\n",
    "              validation_data=(x_test, y_test),\n",
    "              shuffle=True)\n",
    "else:\n",
    "    print('Using real-time data augmentation.')\n",
    "    # This will do preprocessing and realtime data augmentation:\n",
    "    datagen = ImageDataGenerator(\n",
    "        featurewise_center=False,  # set input mean to 0 over the dataset\n",
    "        samplewise_center=False,  # set each sample mean to 0\n",
    "        featurewise_std_normalization=False,  # divide inputs by std of the dataset\n",
    "        samplewise_std_normalization=False,  # divide each input by its std\n",
    "        zca_whitening=False,  # apply ZCA whitening\n",
    "        rotation_range=10,  # randomly rotate images in the range (degrees, 0 to 180)\n",
    "        width_shift_range=0.1,  # randomly shift images horizontally (fraction of total width)\n",
    "        height_shift_range=0.1,  # randomly shift images vertically (fraction of total height)\n",
    "        zoom_range=[0.9, 1.1],\n",
    "        horizontal_flip=False,  # randomly flip images\n",
    "        vertical_flip=False)  # randomly flip images\n",
    "\n",
    "    # Compute quantities required for feature-wise normalization\n",
    "    # (std, mean, and principal components if ZCA whitening is applied).\n",
    "    datagen.fit(x_train)\n",
    "\n",
    "    # Fit the model on the batches generated by datagen.flow().\n",
    "    history = model.fit_generator(datagen.flow(x_train, y_train,\n",
    "                                     batch_size=batch_size),\n",
    "                        epochs=epochs,\n",
    "                        validation_data=(x_test, y_test),\n",
    "                        workers=4,\n",
    "                        steps_per_epoch=100\n",
    "                       )\n",
    "\n",
    "# Save model and weights\n",
    "if not os.path.isdir(save_dir):\n",
    "    os.makedirs(save_dir)\n",
    "model_path = os.path.join(save_dir, model_name)\n",
    "model.save(model_path)\n",
    "\n",
    "# Score trained model.\n",
    "scores = model.evaluate(x_test, y_test, verbose=1)\n",
    "print('Test loss:', scores[0])\n",
    "print('Test accuracy:', scores[1])"
   ]
  },
  {
   "cell_type": "code",
   "execution_count": 11,
   "metadata": {},
   "outputs": [
    {
     "data": {
      "image/png": "[encoded data removed]",
      "text/plain": [
       "<matplotlib.figure.Figure at 0x7f4c76c2ce80>"
      ]
     },
     "metadata": {},
     "output_type": "display_data"
    }
   ],
   "source": [
    "# summarize history for accuracy\n",
    "plt.plot(history.history['acc'])\n",
    "plt.plot(history.history['val_acc'])\n",
    "plt.title('model accuracy')\n",
    "plt.ylabel('accuracy')\n",
    "plt.xlabel('epoch')\n",
    "plt.legend(['train', 'test'], loc='upper left')\n",
    "plt.show()"
   ]
  },
  {
   "cell_type": "code",
   "execution_count": 12,
   "metadata": {},
   "outputs": [
    {
     "data": {
      "image/png": "[encoded data removed]",
      "text/plain": [
       "<matplotlib.figure.Figure at 0x7f4c76294940>"
      ]
     },
     "metadata": {},
     "output_type": "display_data"
    }
   ],
   "source": [
    "# summarize history for loss\n",
    "plt.plot(history.history['loss'])\n",
    "plt.plot(history.history['val_loss'])\n",
    "plt.title('model loss')\n",
    "plt.ylabel('loss')\n",
    "plt.xlabel('epoch')\n",
    "plt.legend(['train', 'test'], loc='upper left')\n",
    "plt.show()"
   ]
  },
  {
   "cell_type": "code",
   "execution_count": 13,
   "metadata": {
    "scrolled": false
   },
   "outputs": [
    {
     "data": {
      "text/html": [
       "<table border=\"1\" class=\"dataframe\">\n",
       "  <thead>\n",
       "    <tr style=\"text-align: right;\">\n",
       "      <th></th>\n",
       "      <th>image</th>\n",
       "      <th>label</th>\n",
       "      <th>pred</th>\n",
       "    </tr>\n",
       "  </thead>\n",
       "  <tbody>\n",
       "    <tr>\n",
       "      <th>0</th>\n",
       "      <td><img src=\"data:image/png;base64,iVBORw0KGgoAAAANSUhEUgAAACAAAAAgCAAAAABWESUoAAACCUlEQVR4nCXQsY0tZRCE0a+qe+byeKxDAEg4GFgIiRyQyIMQyQHhYBAIBga783cXBieEo+9ZW89jsW+cDz3XWOfa44Mox2iDLDYS5wSWJ2Q5GxMJpcoPsbCrbKGWVLGrKJmoqhobSdyotBallnb2ORo2o/OxbNarp+6uv6XuVQtrL2PH2mtudXzxcm1coPWqrFIwdjHsLtnO9MkmyxSE9Kfuz696u2r+yByjLrRI/VshceURIsn8UuHLf+XzYFBajdgttVZy/RN0KV4eGp0wEhENZa++i74gsupF5pTsUF5txE7xq061p2dPpzpiLVIgRn34CY8kXxRXJaiygrDgqG4jerwv3Se+CBXAcQo8qwrYlTyV+UBJR6BosIjtqlgjJ/ZgReRP5AqrNsHlTZyYggH0rRjEYaJgO3S6OcpUAl+TRbk0yq1yF4sGxVoLFm2JI9RtyRTWbi/ZCEB3DvJqfSQjZ3SLpMjw+1+bWDW6L+r1qX0e68MrSLbyo9j1IToeIaOKbtUOIy9kYZU9va/7FY+vPHEJaRMlJrDr7vm/QzsxW4OTR3msrDwPFcnhqKRnD3sidiGT7DldfdONeW9bBA3lza55osvshZPdS9rJZq15FmoP4YdzvG2HQYfsk/1IxOQZdvbnz9dXXR0pyfW+0qQHKQc24ZvX9d7l0pr2G2w0QybsbsC8jP8DXOx6eXPR55YAAAAASUVORK5CYII=\" /></td>\n",
       "      <td>1</td>\n",
       "      <td>1</td>\n",
       "    </tr>\n",
       "    <tr>\n",
       "      <th>1</th>\n",
       "      <td><img src=\"data:image/png;base64,iVBORw0KGgoAAAANSUhEUgAAACAAAAAgCAAAAABWESUoAAACM0lEQVR4nCXQPYqeZRQG4PvnPO98M0VQmGnsVLCISIpULsUtSRaQKiuxthXExjUIIkEz33zvc85tkR1cXPxmyIv1EcllXTGCjhe0l//T3jyF25l9YiOYjaCBzrXn+okkh1pLVcgE5mwmDSDI+bIn1AhQQnoVQSkqY6XEWlz0UfAO2cUH5LmaBWvu7ERLDEvycWivgmOKIuyiYBNbLBCo97AV8Mh2s6GfRrRZoE7JUomgPGMo0mdtyEYhUJNyCJBsVKI7LEi2txT3EGra2gNWyyzYVgMuMjqosUgK7lSb18qkOhmFtR9zEgEaaYoL3BAXRFiO6q0uFIeCORCA+zqcpbIFSG9CcCqw6GSLL9DnVYoVfuWpLNaHv34lrIMRl7FTKnGpLklumPn+8R3JAPbhuEBBmSWHqSg/6msETeLpAQ/HzDCSABIaJPn9ZyiayWMVdbm3SwveQNpJ/vgBAUH5i29f7WvdNaBtVkYUqOPP35h248Trv1/5AbW7bGp4Hl1nfQd0OIqefllX/asbIGIIOoyZBGBjj5/nmr6BqWIxCIg0Qe0QwpcfnZtzBBoJSKY77M4GFPR5PSfnZCwTzKCJQB5mJ8PN2wCZs0WPgeF0n9jY0GyEtJIesFS9GzUk1OgKosFzA5Nkq2gmCxkRDEdJBs/b0UB2HcjsLGwpBGoy6AmZ0ZmOMvRkYKozOHsmIBrnJLewzuJwR/II2MJgMuEQADHlU/2Pj7nfa9/BOYbDlFF76PB/9X59/4kyoqYAAAAASUVORK5CYII=\" /></td>\n",
       "      <td>2</td>\n",
       "      <td>2</td>\n",
       "    </tr>\n",
       "    <tr>\n",
       "      <th>2</th>\n",
       "      <td><img src=\"data:image/png;base64,iVBORw0KGgoAAAANSUhEUgAAACAAAAAgCAAAAABWESUoAAACOklEQVR4nCXRPY6cVRQE0Kq693U3I4NkFmAJRM4SkBBkzkjMErwM514CGQthBwTOESHCiX8YRtP9vVvlwGcLh9/tuTDbVby8L4G0LS08eOHE++6MRUArUyRqQlERTwSrOi55UMq6HZSaNWl1SsWzKR9RkCZ1lCCPWfGOt7O1ukmWzFb5clWVYRdpB7pHd9KuHZGAV2tbglq8Kmx1dy2icJ4C1dK0SVJggUM1qtwb0G+t3P7968831+tiR6doQHRRdVA5LVBffPPtT8XDYMb8FVI1IEZTpCLQGHIlgVA0ui3YmkOiOCoE5cg0ohL6KKRwqgZFxYzCGqBIka1jbIOPEyRDdUlgRWkmSVMAuPBLAzvLO1VJ+lrTvBHtBbakH010uRHEa6OhYkkqVQv0V4SyOcMdHdicCZRRdVHSxRDZ4ou8ooqt0+Olq0chC+wyruAEv/sNkkk8rFDqjoxMyAyYs35OEAQPqbvVuuvxaaGEEgvcH14yJuF95y0KgwRKJsbGI59oUwXq/stp+PNvuUmCnPu//3gtH7Ox37+rXLtdbgN2eov++umzH3wUaX68+zhVss8b0i0IbXn7YHMAfHjr2dZSuiRbY3pSrAlI811mz0MvOCt6huGASAwFu4z/KcGi+9zicwMaBCSTKSNvxwAb58zZ+T5WtAUwmNoO/sFjbIEmXPEeGDQcKmBw84LYp8Bs3JoTORhwgkH432XfOJ1jDZyYQBgGgENzanTZ7J0c08aQFklTGMDB7tyiT8Hsk2HjR3DJAAAAAElFTkSuQmCC\" /></td>\n",
       "      <td>2</td>\n",
       "      <td>2</td>\n",
       "    </tr>\n",
       "    <tr>\n",
       "      <th>3</th>\n",
       "      <td><img src=\"data:image/png;base64,iVBORw0KGgoAAAANSUhEUgAAACAAAAAgCAAAAABWESUoAAACQUlEQVR4nD2NPY5mRRAEM7Oq+n3f/C0S6yAhDCx8zoGz5+MgCI9DcAZMMGaZea+7KzFgCTsUwR/f65mffXCu8XCyOz5Mn3wbv9kb3UIUQUWKurLkpFrdgJQMyojD5orO0Q0Lkaz4eACElKKGBAnJ85CEhLDbTwREMlfHtgOYuB+fpw3YCOunx7/222PLQToKiryBQTDjSWAol9GZSoiCICm4KclKa8tGEalgjI6mMkEnDgTbTh+5xMimjFQ64l0f8QYQrK5qhiFn3HUhe4eIUsbfI7ERPUWkmcqRDehWiTj6fLbUyDpuaSiCyUQEvG054bPVczeO9BVmSTdrBIcUFemHoKoQL9nDIK5IvKMPbJlqoS6vW+09rFy5PJwpXIU9pqDNbKkZRoRWNCLUMrt3BVjBIDPgQcjwcZSyCFa7owEkazx04bp5peKueM8ACoI6XLGCEeIJrvnz6y+/cisLe0QntTMjTMkpCX/uh0+fAAtLoaiJCi4NOuKiYiwCAChERIpVsa0BDcWMSgT+JXMvIjfJSC+d5TzmnmN/EWKP7Q9XxWuGxp6drwAw53+CIMQTx/FsC7U8IGz37v8XXNmOcEBsrGxC830dXwrE3fYucgMJNKM91zTQBqxSjmIuIa1ugyYZ83uAMJ141BmKJlHVpKHm4PyhuZ37j1RkV6qTBFvC3l1Ifou2se+ZYyCdt1Vyth9OzLTW/MZ764yX/O7Mq4C+yJsJxHnfuy5+DbO1UnqpwfFAB1zYKfeym1919zX5+z+LajqTK1Q96wAAAABJRU5ErkJggg==\" /></td>\n",
       "      <td>不明</td>\n",
       "      <td>不明</td>\n",
       "    </tr>\n",
       "    <tr>\n",
       "      <th>4</th>\n",
       "      <td><img src=\"data:image/png;base64,iVBORw0KGgoAAAANSUhEUgAAACAAAAAgCAAAAABWESUoAAACaElEQVR4nAXBMaolZRAF4HNO1d/3Xt4M6oCgMOAeFAwEV2Gm4DbcgqGxoQhi5CaMJzDTQIyVGdRhfLe7q+r4fXx+84jc+MkXnUPJ9Hh++RqXW2vID64ziWzM4uBBVahre+7n225NJ7ZqcWEokwGlGdvqp0fgTXZkak0WqBg7akFw5op8uj/eGE7RwmYiiPAKFJWhZ/v58PASXbImWCQjVGKcVK5Vf653uN0oKZVY1wiRHUHcPInrei+fPf67pirHUSp7DMKl0uF449f7q7sv24NzXTq48QRJhqxZyTPbj761S7kGvdXCBI1K1TRCfLznOQFM6npYKS5FcTVVfTFncPaMb5M3YotT4W9e/fHb7y8LWsV7dI05OpzSNlyxx/X5808dgPPEgI3z5x89F60IXq69lYgAETwBwpr1ontaT7xWtvoC56xij0QIrfmV25V69y2lr5cFaDxpigaHYZ8+DB3SGRzSdggkIEBkSBEJzUAz2RWkGwZp2raxIadz38+ZbmQhW2hbahiYyUpZ+1FzTtsKJyZCLjZh60j6yLrPLMzuM8haQJ9byzPuhCZ0d8944pDY0f0Z19CDAw5tgrraM9ULBkf4AX+hYW6jBwZH956pBt+3PajRP9+6DLQGcWwhCGY3PpqxgZonX0Hu8tShcmjOc59yf9wunNbn/d0xQ6P9odLI15v0Hxxv2240v68vxx025sXhm3PYGLm2s9SKI3GIHEzzWDOVtMGe2KOFcphhA11Yd3I/k4wZumjt14E98rGK9t9djXu6HYazAnFXE/DE2J6fxl6dxtjjKnOiCUfbrUG/6PLh/wHLQeUWDKDnZgAAAABJRU5ErkJggg==\" /></td>\n",
       "      <td>3</td>\n",
       "      <td>3</td>\n",
       "    </tr>\n",
       "    <tr>\n",
       "      <th>5</th>\n",
       "      <td><img src=\"data:image/png;base64,iVBORw0KGgoAAAANSUhEUgAAACAAAAAgCAAAAABWESUoAAACL0lEQVR4nAXBvbKtUxQE0O6ec337j6IKL0DqzT2BWJVA5AEEApFCcN177LO/NbuNwe+4bnkxX5Y/3vlxfrQCJsOdcKb3omHx7aLjtY3LhkNAWfFJqdxGKy8HMfBvU02pmkazxAb+27ZjGCc+pAV1CVqSoFgiJqh4hf6dQyqgxLBKUHXz6CUsXbp+rapidYk8ShQSiJvswoT6iSQFoiiJ6FpBI15QhPA3ATIh9wwgcd6fKJJ0lK7NKoggQ7GqF46EpTrg0b2WYBLG2kaAtkYgIoih9c3Pv3z464+3/bxRvHnze+q6a3J77OGsfPXp+jfPO322vYhGLgt2gcVxasj28iXOKKIG2ecJxB7hgKtOIGCpaKoPHNwFQBQKoHhhgDVJyi04jGETMV9cLCFDhFGEVp3nFxw+LZ1lbitlKmSHKIUvsAC0EnABjgQfFUYVEQfnfS3EJthVVd5cCMBJdUDJt7NY/cabg51eaDbfr9BSS8VkYUVKCQsUuw5feo+nO2Shpi11RJSqmsANj1lWu6qAk2JhbeGSrcuRB7iPT5eSxEh1ra4m1mK6StfH4wV8e/tan/XqlxJpd3I8QfYJX1nX9fk/fq+jQZqNXjQ3df75Q2EUID2nzzSog9SAjRejuyKRAz4x0O4aEiroFPpkegjYu2ziJBuVqYUm6wWMN+iE5WDb3I2AnXh7bHsOm6fo6cHQFHQrsXKkUQlpnOKgB1bivud8bBocczoQXAM4J0LY/wPCFWFF7n7f8gAAAABJRU5ErkJggg==\" /></td>\n",
       "      <td>不明</td>\n",
       "      <td>不明</td>\n",
       "    </tr>\n",
       "    <tr>\n",
       "      <th>6</th>\n",
       "      <td><img src=\"data:image/png;base64,iVBORw0KGgoAAAANSUhEUgAAACAAAAAgCAAAAABWESUoAAACNUlEQVR4nCXCPc5uAxQF4LXW3ue8370ElU4kGo0ozIYBGIpZSJgFU1Do1aK4UUiun3jP2XsthTwPP4m2a7+NFJJaBVzm66yFVieBQiuQhBS3puAYWRJ9TB0H06IIsMCoAXWWVm2DSS0pimBInyFgjqLAAglLpYIkkW2BQjFqUp2cUN0qghBAFCpRUAYFdbgzAwdAwICCWGJ1c9g8VAe6KAgAybiiRBqywk/3sT0+lnlHMeeVpn2/7PP0LNWk0Ns8jKN8u6QuCsdddNgqoUr9aB5NRADUgqiDqFOtPpyD1dOsKl6n/Hg59vzjZfuaRxOBptwPn7iy1Xj1ut+eH/UbztINaZACrH0MYh1Vzw/f/PnBdfhXsZVykSx6n74lzx7923n+jr/K7q6g8AhDkYWnLLxN/v7lSKXuu8slboUU4BuQzcEk0iwhhqhlkfGIhGeNG75zPe8rrcO89c/3RQgC+w6tgb6+9BK7j60gp4JiwZogWM26mUhitW53wOxtrDkMrOD2KKOTj/M8vxCwJQCxdgxzKpHT7Fr0Z8ld3kKYLa2wZQEn+sTjrvnYKaUDMTJqwZjwdK/7MfV+ENMrwoxDOGIOs4e57hxbI6kSBACyEFCb6cW1QyBUXBjwf+40TkOzt2uudca5vsqX6x1PHB/wgaYnV1J3Q5vv8FqBPLTK7OfR/9YKnGyZWv38zRqAubpLEeWBPQzumcl8/uM493LJd1lN6bInsIkD5k/4wUzBmJf3eo7u/wDAw5a1dNneiwAAAABJRU5ErkJggg==\" /></td>\n",
       "      <td>3</td>\n",
       "      <td>3</td>\n",
       "    </tr>\n",
       "    <tr>\n",
       "      <th>7</th>\n",
       "      <td><img src=\"data:image/png;base64,iVBORw0KGgoAAAANSUhEUgAAACAAAAAgCAAAAABWESUoAAACTElEQVR4nC3PPa6dRRAE0Krqnrk/WI4ILMMCCMgQGyAkIAKJkFWwK9ZAxA7wAiB6GCEwXF2/+810FwHkJzn8hM/ffy6TItliB6u+Rc4/Oybd2d13IAiqzXA4IDIbLRJKATskVCohs4O5yNkzQ6whQw8SFaFNg9k4WO72erRRyd6/BzwFDJEEgk4LYzfEEpVRIXFoUKTCcifyCo0REtq/JBJs/fCVTADKW2mB1dslthepFaFvioPsJL8UqAwDFKW/JJ0N4SZAAPidVxCkyFT2iiSgEiDwgu6Pg6RoROex+++u0aNyf/D0ikbFMRs7atxsZNqbbKyB+aOB6PSFJwyd+8WjLRdKVAdAU0FQap8UkwlJh8AFZyFMwQZhuwpIJK3AiIxWcjeMYJJkeioYQaldIQhwiFDTXXazoAhOSdYIyjT/c8qAgjGSFiGgH2XRRIsibZHQalcYSEoTDQFNN0VvgWsy0T0fUy2CCioUSMEWYDVjIgkougBs2t6o/5f4QlFIjvMQri9ebmt3gw7YBoCvpVNAZSd7CE0ShN8+/fTmN49HkIMwBsxPB1/eT3cxhxav7y8exDYvQ3903yElkYNidY+0l1vX9BWqc540UpDB6HCmmjE4Zo59vl9xp6ZV5iIc0rl2tDLH6dXlo/5Qj5PJpUhTGMPuwUc2cObb/fqzdzcesXSRNgN0gSwMz2PcsPH08/vzuu+9D6G0Kzarn6leR9/juY9fb6tWPFRIKrSaErqxUS4m6/hnv/OBw5UBexIIU9so8qg8amCJ5Wf+CylMY6vJyWfJAAAAAElFTkSuQmCC\" /></td>\n",
       "      <td>1</td>\n",
       "      <td>1</td>\n",
       "    </tr>\n",
       "  </tbody>\n",
       "</table>"
      ],
      "text/plain": [
       "<IPython.core.display.HTML object>"
      ]
     },
     "execution_count": 13,
     "metadata": {},
     "output_type": "execute_result"
    }
   ],
   "source": [
    "# result_df = iter_result(model)\n",
    "y_pred = model.predict(x_test)\n",
    "result_df = pd.DataFrame({\n",
    "    'image': pd.Series([d[:,:,0] for d in x_test]).apply(to_base_64).apply(lambda x: img_tag_template.format(x)),\n",
    "    'label': pd.Series(np.argmax(y_test, axis=1)).map(label_map),\n",
    "    'pred': pd.Series(np.argmax(y_pred, axis=1)).map(label_map)\n",
    "})\n",
    "HTML(result_df.to_html(escape=False))"
   ]
  }
 ],
 "metadata": {
  "kernelspec": {
   "display_name": "gpu0",
   "language": "",
   "name": "gpu2kernel"
  },
  "language_info": {
   "codemirror_mode": {
    "name": "ipython",
    "version": 3
   },
   "file_extension": ".py",
   "mimetype": "text/x-python",
   "name": "python",
   "nbconvert_exporter": "python",
   "pygments_lexer": "ipython3",
   "version": "3.5.2"
  }
 },
 "nbformat": 4,
 "nbformat_minor": 2
}
